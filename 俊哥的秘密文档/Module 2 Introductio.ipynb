{
 "cells": [
  {
   "cell_type": "markdown",
   "metadata": {},
   "source": [
    "# Module 2: Introduction to Numpy and Pandas\n",
    "\n",
    "The following tutorial contains examples of using the numpy and pandas library modules. The notebook can be downloaded from http://www.cse.msu.edu/~ptan/dmbook/tutorials/tutorial2/tutorial2.ipynb. Read the step-by-step instructions below carefully. To execute the code, click on the cell and press the SHIFT-ENTER keys simultaneously."
   ]
  },
  {
   "cell_type": "markdown",
   "metadata": {},
   "source": [
    "## 2.1 Introduction to Numpy\n",
    "\n",
    "Numpy, which stands for numerical Python, is a Python library package to support numerical computations. The basic data structure in numpy is a multi-dimensional array object called ndarray. Numpy provides a suite of functions that can efficiently manipulate elements of the ndarray. \n",
    "\n",
    "### 2.1.1 Creating ndarray\n",
    "\n",
    "An ndarray can be created from a list or a tuple object as shown in the examples below. It is possible to create a 1-dimensional or multi-dimensional array from the list objects as well as tuples."
   ]
  },
  {
   "cell_type": "code",
   "execution_count": 1,
   "metadata": {},
   "outputs": [
    {
     "name": "stdout",
     "output_type": "stream",
     "text": [
      "[1. 2. 3. 4. 5.]\n",
      "#Dimensions = 1\n",
      "Dimension = (5,)\n",
      "Size = 5\n",
      "Array type = float64 \n",
      "\n",
      "[[1 2]\n",
      " [3 4]\n",
      " [5 6]\n",
      " [7 8]]\n",
      "#Dimensions = 2\n",
      "Dimension = (4, 2)\n",
      "Size = 8\n",
      "Array type = int32 \n",
      "\n",
      "[['1' 'a' '3.0']\n",
      " ['2' 'b' '3.5']]\n",
      "#Dimensions = 2\n",
      "Dimension = (2, 3)\n",
      "Size = 6\n"
     ]
    }
   ],
   "source": [
    "import numpy as np\n",
    "\n",
    "oneDim = np.array([1.0,2,3,4,5])   # a 1-dimensional array (vector)\n",
    "print(oneDim)\n",
    "print(\"#Dimensions =\", oneDim.ndim)\n",
    "print(\"Dimension =\", oneDim.shape)\n",
    "print(\"Size =\", oneDim.size)\n",
    "print(\"Array type =\", oneDim.dtype, '\\n')\n",
    "\n",
    "twoDim = np.array([[1,2],[3,4],[5,6],[7,8]])  # a two-dimensional array (matrix)\n",
    "print(twoDim)\n",
    "print(\"#Dimensions =\", twoDim.ndim)\n",
    "print(\"Dimension =\", twoDim.shape)\n",
    "print(\"Size =\", twoDim.size)\n",
    "print(\"Array type =\", twoDim.dtype, '\\n')\n",
    "\n",
    "arrFromTuple = np.array([(1,'a',3.0),(2,'b',3.5)])  # create ndarray from tuple\n",
    "print(arrFromTuple)\n",
    "print(\"#Dimensions =\", arrFromTuple.ndim)\n",
    "print(\"Dimension =\", arrFromTuple.shape)\n",
    "print(\"Size =\", arrFromTuple.size)"
   ]
  },
  {
   "cell_type": "markdown",
   "metadata": {},
   "source": [
    "There are also built-in functions available in numpy to create the ndarrays. "
   ]
  },
  {
   "cell_type": "code",
   "execution_count": 2,
   "metadata": {},
   "outputs": [
    {
     "name": "stdout",
     "output_type": "stream",
     "text": [
      "Array of random numbers from a uniform distribution\n",
      "[0.98702822 0.2962545  0.00488742 0.76413019 0.20313503]\n",
      "\n",
      "Array of random numbers from a normal distribution\n",
      "[-1.58862283  1.06597659 -1.55733403 -2.18582805 -0.18441074]\n",
      "\n",
      "Array of integers between -10 and 10, with step size of 2\n",
      "[-10  -8  -6  -4  -2   0   2   4   6   8]\n",
      "\n",
      "2-dimensional array of integers from 0 to 11\n",
      "[[ 0  1  2  3]\n",
      " [ 4  5  6  7]\n",
      " [ 8  9 10 11]]\n",
      "\n",
      "Array of values between 0 and 1, split into 10 equally spaced values\n",
      "[0.         0.11111111 0.22222222 0.33333333 0.44444444 0.55555556\n",
      " 0.66666667 0.77777778 0.88888889 1.        ]\n",
      "\n",
      "Array of values from 10^-3 to 10^3\n",
      "[1.e-03 1.e-02 1.e-01 1.e+00 1.e+01 1.e+02 1.e+03]\n"
     ]
    }
   ],
   "source": [
    "print('Array of random numbers from a uniform distribution')\n",
    "print(np.random.rand(5))      # random numbers from a uniform distribution between [0,1]\n",
    "\n",
    "print('\\nArray of random numbers from a normal distribution')\n",
    "print(np.random.randn(5))     # random numbers from a normal distribution\n",
    "\n",
    "print('\\nArray of integers between -10 and 10, with step size of 2')\n",
    "print(np.arange(-10,10,2))    # similar to range, but returns ndarray instead of list\n",
    "\n",
    "print('\\n2-dimensional array of integers from 0 to 11')\n",
    "print(np.arange(12).reshape(3,4))  # reshape to a matrix\n",
    "\n",
    "print('\\nArray of values between 0 and 1, split into 10 equally spaced values')\n",
    "print(np.linspace(0,1,10))    # split interval [0,1] into 10 equally separated values\n",
    "\n",
    "print('\\nArray of values from 10^-3 to 10^3')\n",
    "print(np.logspace(-3,3,7))    # create ndarray with values from 10^-3 to 10^3"
   ]
  },
  {
   "cell_type": "code",
   "execution_count": 3,
   "metadata": {},
   "outputs": [
    {
     "name": "stdout",
     "output_type": "stream",
     "text": [
      "A 2 x 3 matrix of zeros\n",
      "[[0. 0. 0.]\n",
      " [0. 0. 0.]]\n",
      "\n",
      "A 3 x 2 matrix of ones\n",
      "[[1. 1.]\n",
      " [1. 1.]\n",
      " [1. 1.]]\n",
      "\n",
      "A 3 x 3 identity matrix\n",
      "[[1. 0. 0.]\n",
      " [0. 1. 0.]\n",
      " [0. 0. 1.]]\n"
     ]
    }
   ],
   "source": [
    "print('A 2 x 3 matrix of zeros')\n",
    "print(np.zeros((2,3)))        # a matrix of zeros\n",
    "\n",
    "print('\\nA 3 x 2 matrix of ones')\n",
    "print(np.ones((3,2)))         # a matrix of ones\n",
    "\n",
    "print('\\nA 3 x 3 identity matrix')\n",
    "print(np.eye(3))              # a 3 x 3 identity matrix"
   ]
  },
  {
   "cell_type": "markdown",
   "metadata": {},
   "source": [
    "## 2.1.2 Element-wise Operations\n",
    "\n",
    "You can apply standard operators such as addition and multiplication on each element of the ndarray."
   ]
  },
  {
   "cell_type": "code",
   "execution_count": 4,
   "metadata": {},
   "outputs": [
    {
     "name": "stdout",
     "output_type": "stream",
     "text": [
      "x = [1 2 3 4 5]\n",
      "x + 1 = [2 3 4 5 6]\n",
      "x - 1 = [0 1 2 3 4]\n",
      "x * 2 = [ 2  4  6  8 10]\n",
      "x // 2 = [0 1 1 2 2]\n",
      "x ** 2 = [ 1  4  9 16 25]\n",
      "x % 2 = [1 0 1 0 1]\n",
      "1 / x = [1.         0.5        0.33333333 0.25       0.2       ]\n"
     ]
    }
   ],
   "source": [
    "x = np.array([1,2,3,4,5])\n",
    "\n",
    "print('x =', x)\n",
    "print('x + 1 =', x + 1)      # addition\n",
    "print('x - 1 =', x - 1)      # subtraction\n",
    "print('x * 2 =', x * 2)      # multiplication\n",
    "print('x // 2 =', x // 2)     # integer division\n",
    "print('x ** 2 =', x ** 2)     # square\n",
    "print('x % 2 =', x % 2)      # modulo  \n",
    "print('1 / x =', 1 / x)      # division"
   ]
  },
  {
   "cell_type": "code",
   "execution_count": 5,
   "metadata": {},
   "outputs": [
    {
     "name": "stdout",
     "output_type": "stream",
     "text": [
      "x = [ 2  4  6  8 10]\n",
      "y = [1 2 3 4 5]\n",
      "x + y = [ 3  6  9 12 15]\n",
      "x - y = [1 2 3 4 5]\n",
      "x * y = [ 2  8 18 32 50]\n",
      "x / y = [2. 2. 2. 2. 2.]\n",
      "x // y = [2 2 2 2 2]\n",
      "x ** y = [     2     16    216   4096 100000]\n"
     ]
    }
   ],
   "source": [
    "x = np.array([2,4,6,8,10])\n",
    "y = np.array([1,2,3,4,5])\n",
    "\n",
    "print('x =', x)\n",
    "print('y =', y)\n",
    "print('x + y =', x + y)      # element-wise addition\n",
    "print('x - y =', x - y)      # element-wise subtraction\n",
    "print('x * y =', x * y)      # element-wise multiplication \n",
    "print('x / y =', x / y)      # element-wise division\n",
    "print('x // y =', x // y)    # element-wise integer division \n",
    "print('x ** y =', x ** y)    # element-wise exponentiation"
   ]
  },
  {
   "cell_type": "markdown",
   "metadata": {},
   "source": [
    "## 2.1.3 Indexing and Slicing\n",
    "\n",
    "There are various ways to select a subset of elements within a numpy array. Assigning a numpy array (or a subset of its elements) to another variable will simply pass a reference to the array instead of copying its values. To make a copy of an ndarray, you need to explicitly call the .copy() function."
   ]
  },
  {
   "cell_type": "code",
   "execution_count": 6,
   "metadata": {},
   "outputs": [
    {
     "name": "stdout",
     "output_type": "stream",
     "text": [
      "Before: x = [-5 -4 -3 -2 -1  0  1  2  3  4]\n",
      "        y = [-2 -1]\n",
      "After : y = [1000 1000]\n",
      "        x = [  -5   -4   -3 1000 1000    0    1    2    3    4] \n",
      "\n",
      "Before: x = [  -5   -4   -3 1000 1000    0    1    2    3    4]\n",
      "        z = [1000 1000]\n",
      "After : z = [500 500]\n",
      "        x = [  -5   -4   -3 1000 1000    0    1    2    3    4]\n"
     ]
    }
   ],
   "source": [
    "x = np.arange(-5,5)\n",
    "print('Before: x =', x)\n",
    "\n",
    "y = x[3:5]     # y is a slice, i.e., pointer to a subarray in x\n",
    "print('        y =', y)\n",
    "y[:] = 1000    # modifying the value of y will change x\n",
    "print('After : y =', y)\n",
    "print('        x =', x, '\\n')\n",
    "\n",
    "z = x[3:5].copy()   # makes a copy of the subarray\n",
    "print('Before: x =', x)\n",
    "print('        z =', z)\n",
    "z[:] = 500          # modifying the value of z will not affect x\n",
    "print('After : z =', z)\n",
    "print('        x =', x)"
   ]
  },
  {
   "cell_type": "markdown",
   "metadata": {},
   "source": [
    "There are many ways to access elements of an ndarray. The following example illustrates the difference between indexing elements of a list and elements of ndarray. "
   ]
  },
  {
   "cell_type": "code",
   "execution_count": 7,
   "metadata": {},
   "outputs": [
    {
     "name": "stdout",
     "output_type": "stream",
     "text": [
      "my2dlist = [[1, 2, 3, 4], [5, 6, 7, 8], [9, 10, 11, 12]]\n",
      "my2dlist[2] = [9, 10, 11, 12]\n",
      "my2dlist[:][2] = [9, 10, 11, 12]\n",
      "\n",
      "my2darr =\n",
      " [[ 1  2  3  4]\n",
      " [ 5  6  7  8]\n",
      " [ 9 10 11 12]]\n",
      "my2darr[2][:] = [ 9 10 11 12]\n",
      "my2darr[2,:] = [ 9 10 11 12]\n",
      "my2darr[:][2] = [ 9 10 11 12]\n",
      "my2darr[:,2] = [ 3  7 11]\n",
      "my2darr[:2,2:] =\n",
      " [[3 4]\n",
      " [7 8]]\n"
     ]
    }
   ],
   "source": [
    "my2dlist = [[1,2,3,4],[5,6,7,8],[9,10,11,12]]  # a 2-dim list\n",
    "print('my2dlist =', my2dlist)\n",
    "print('my2dlist[2] =', my2dlist[2])            # access the third sublist\n",
    "print('my2dlist[:][2] =', my2dlist[:][2])      # can't access third element of each sublist\n",
    "# print('my2dlist[:,2] =', my2dlist[:,2])      # invalid way to access sublist, will cause syntax error\n",
    "\n",
    "my2darr = np.array(my2dlist)\n",
    "print('\\nmy2darr =\\n', my2darr)\n",
    "\n",
    "print('my2darr[2][:] =', my2darr[2][:])      # access the third row\n",
    "print('my2darr[2,:] =', my2darr[2,:])        # access the third row\n",
    "print('my2darr[:][2] =', my2darr[:][2])      # access the third row (similar to 2d list)\n",
    "print('my2darr[:,2] =', my2darr[:,2])        # access the third column\n",
    "print('my2darr[:2,2:] =\\n', my2darr[:2,2:])     # access the first two rows & last two columns"
   ]
  },
  {
   "cell_type": "markdown",
   "metadata": {},
   "source": [
    "Numpy arrays also support boolean indexing."
   ]
  },
  {
   "cell_type": "code",
   "execution_count": 8,
   "metadata": {},
   "outputs": [
    {
     "name": "stdout",
     "output_type": "stream",
     "text": [
      "my2darr =\n",
      " [[ 1  2  3  4]\n",
      " [ 5  6  7  8]\n",
      " [ 9 10 11 12]]\n",
      "\n",
      "my2darr[my2darr % 3 == 0] = [ 3  6  9 12]\n",
      "my2darr[2:, my2darr[2,:] % 3 == 0] = [[ 9 12]]\n"
     ]
    }
   ],
   "source": [
    "my2darr = np.arange(1,13,1).reshape(3,4)\n",
    "print('my2darr =\\n', my2darr)\n",
    "\n",
    "divBy3 = my2darr[my2darr % 3 == 0]\n",
    "print('\\nmy2darr[my2darr % 3 == 0] =', divBy3)            # returns all the elements divisible by 3 in an ndarray\n",
    "\n",
    "divBy3LastRow = my2darr[2:, my2darr[2,:] % 3 == 0]\n",
    "print('my2darr[2:, my2darr[2,:] % 3 == 0] =', divBy3LastRow)    # returns elements in the last row divisible by 3"
   ]
  },
  {
   "cell_type": "markdown",
   "metadata": {},
   "source": [
    "More indexing examples."
   ]
  },
  {
   "cell_type": "code",
   "execution_count": 9,
   "metadata": {},
   "outputs": [
    {
     "name": "stdout",
     "output_type": "stream",
     "text": [
      "my2darr =\n",
      " [[ 1  2  3]\n",
      " [ 4  5  6]\n",
      " [ 7  8  9]\n",
      " [10 11 12]]\n",
      "indices = [2, 1, 0, 3] \n",
      "\n",
      "my2darr[indices,:] =\n",
      " [[ 7  8  9]\n",
      " [ 4  5  6]\n",
      " [ 1  2  3]\n",
      " [10 11 12]]\n",
      "\n",
      "rowIndex = [0, 0, 1, 2, 3]\n",
      "columnIndex = [0, 2, 0, 1, 2] \n",
      "\n",
      "my2darr[rowIndex,columnIndex] = [ 1  3  4  8 12]\n"
     ]
    }
   ],
   "source": [
    "my2darr = np.arange(1,13,1).reshape(4,3)\n",
    "print('my2darr =\\n', my2darr)\n",
    "\n",
    "indices = [2,1,0,3]    # selected row indices\n",
    "print('indices =', indices, '\\n')\n",
    "print('my2darr[indices,:] =\\n', my2darr[indices,:])  # this will shuffle the rows of my2darr\n",
    "\n",
    "rowIndex = [0,0,1,2,3]     # row index into my2darr\n",
    "print('\\nrowIndex =', rowIndex)\n",
    "columnIndex = [0,2,0,1,2]  # column index into my2darr\n",
    "print('columnIndex =', columnIndex, '\\n')\n",
    "print('my2darr[rowIndex,columnIndex] =', my2darr[rowIndex,columnIndex])"
   ]
  },
  {
   "cell_type": "markdown",
   "metadata": {},
   "source": [
    "## 2.1.4 Numpy Arithmetic and Statistical Functions\n",
    "\n",
    "Numpy provides many built-in mathematical functions available for manipulating elements of an ndarray."
   ]
  },
  {
   "cell_type": "code",
   "execution_count": 10,
   "metadata": {},
   "outputs": [
    {
     "name": "stdout",
     "output_type": "stream",
     "text": [
      "y = [-1.4  0.4 -3.2  2.5  3.4] \n",
      "\n",
      "np.abs(y) = [1.4 0.4 3.2 2.5 3.4]\n",
      "np.sqrt(abs(y)) = [1.18321596 0.63245553 1.78885438 1.58113883 1.84390889]\n",
      "np.sign(y) = [-1.  1. -1.  1.  1.]\n",
      "np.exp(y) = [ 0.24659696  1.4918247   0.0407622  12.18249396 29.96410005]\n",
      "np.sort(y) = [-3.2 -1.4  0.4  2.5  3.4]\n"
     ]
    }
   ],
   "source": [
    "y = np.array([-1.4, 0.4, -3.2, 2.5, 3.4])    \n",
    "print('y =', y, '\\n')\n",
    "\n",
    "print('np.abs(y) =', np.abs(y))                # convert to absolute values\n",
    "print('np.sqrt(abs(y)) =', np.sqrt(abs(y)))    # apply square root to each element\n",
    "print('np.sign(y) =', np.sign(y))              # get the sign of each element\n",
    "print('np.exp(y) =', np.exp(y))                # apply exponentiation\n",
    "print('np.sort(y) =', np.sort(y))              # sort array"
   ]
  },
  {
   "cell_type": "code",
   "execution_count": 11,
   "metadata": {},
   "outputs": [
    {
     "name": "stdout",
     "output_type": "stream",
     "text": [
      "x = [-2 -1  0  1  2]\n",
      "y = [-0.76190378 -1.21572548  1.01513328  0.2052661  -2.66205553] \n",
      "\n",
      "np.add(x,y) = [-2.76190378 -2.21572548  1.01513328  1.2052661  -0.66205553]\n",
      "np.subtract(x,y) = [-1.23809622  0.21572548 -1.01513328  0.7947339   4.66205553]\n",
      "np.multiply(x,y) = [ 1.52380757  1.21572548  0.          0.2052661  -5.32411105]\n",
      "np.divide(x,y) = [ 2.62500337  0.82255412  0.          4.87172508 -0.75129913]\n",
      "np.maximum(x,y) = [-0.76190378 -1.          1.01513328  1.          2.        ]\n"
     ]
    }
   ],
   "source": [
    "x = np.arange(-2,3)\n",
    "y = np.random.randn(5)\n",
    "print('x =', x)\n",
    "print('y =', y, '\\n')\n",
    "\n",
    "print('np.add(x,y) =', np.add(x,y))                # element-wise addition       x + y\n",
    "print('np.subtract(x,y) =', np.subtract(x,y))      # element-wise subtraction    x - y\n",
    "print('np.multiply(x,y) =', np.multiply(x,y))      # element-wise multiplication x * y\n",
    "print('np.divide(x,y) =', np.divide(x,y))          # element-wise division       x / y\n",
    "print('np.maximum(x,y) =', np.maximum(x,y))        # element-wise maximum        max(x,y)"
   ]
  },
  {
   "cell_type": "code",
   "execution_count": 12,
   "metadata": {},
   "outputs": [
    {
     "name": "stdout",
     "output_type": "stream",
     "text": [
      "y = [-3.2 -1.4  0.4  2.5  3.4] \n",
      "\n",
      "Min = -3.2\n",
      "Max = 3.4\n",
      "Average = 0.34000000000000014\n",
      "Std deviation = 2.432776191925595\n",
      "Sum = 1.7000000000000006\n"
     ]
    }
   ],
   "source": [
    "y = np.array([-3.2, -1.4, 0.4, 2.5, 3.4])    \n",
    "print('y =', y, '\\n')\n",
    "\n",
    "print(\"Min =\", np.min(y))             # min \n",
    "print(\"Max =\", np.max(y))             # max \n",
    "print(\"Average =\", np.mean(y))        # mean/average\n",
    "print(\"Std deviation =\", np.std(y))   # standard deviation\n",
    "print(\"Sum =\", np.sum(y))             # sum "
   ]
  },
  {
   "cell_type": "markdown",
   "metadata": {},
   "source": [
    "## 2.1.5 Numpy linear algebra\n",
    "\n",
    "Numpy provides many functions to support linear algebra operations."
   ]
  },
  {
   "cell_type": "code",
   "execution_count": 14,
   "metadata": {},
   "outputs": [
    {
     "name": "stdout",
     "output_type": "stream",
     "text": [
      "X =\n",
      " [[ 0.86612393 -0.03620862 -0.44371059]\n",
      " [ 1.07911232 -0.71135042  0.8594276 ]] \n",
      "\n",
      "Transpose of X, X.T =\n",
      " [[ 0.86612393  1.07911232]\n",
      " [-0.03620862 -0.71135042]\n",
      " [-0.44371059  0.8594276 ]] \n",
      "\n",
      "y = [-0.4018964   1.42691841 -0.31837253] \n",
      "\n",
      "Matrix-vector multiplication\n",
      "X.dot(y) =\n",
      " [-0.25849357 -1.72234851] \n",
      "\n",
      "Matrix-matrix product\n",
      "X.dot(X.T) = [[0.94836082 0.57906489]\n",
      " [0.57906489 2.40911863]]\n",
      "\n",
      "X.T.dot(X) =\n",
      " [[ 1.91465407 -0.79898816  0.54311055]\n",
      " [-0.79898816  0.50733048 -0.59528804]\n",
      " [ 0.54311055 -0.59528804  0.9354949 ]]\n"
     ]
    }
   ],
   "source": [
    "X = np.random.randn(2,3)                         # create a 2 x 3 random matrix\n",
    "print('X =\\n', X, '\\n')\n",
    "print('Transpose of X, X.T =\\n', X.T, '\\n')      # matrix transpose operation X^T\n",
    "\n",
    "y = np.random.randn(3) # random vector \n",
    "print('y =', y, '\\n')\n",
    "\n",
    "print('Matrix-vector multiplication')\n",
    "print('X.dot(y) =\\n', X.dot(y), '\\n')            # matrix-vector multiplication  X * y\n",
    "\n",
    "print('Matrix-matrix product')\n",
    "print('X.dot(X.T) =', X.dot(X.T))        # matrix-matrix multiplication  X * X^T\n",
    "print('\\nX.T.dot(X) =\\n', X.T.dot(X))      # matrix-matrix multiplication  X^T * X"
   ]
  },
  {
   "cell_type": "code",
   "execution_count": 15,
   "metadata": {},
   "outputs": [
    {
     "name": "stdout",
     "output_type": "stream",
     "text": [
      "X =\n",
      " [[-0.16280345  1.06367581 -0.13431454]\n",
      " [-0.08422585  0.54737221  0.0586717 ]\n",
      " [ 0.09957233  2.40233516 -0.58896529]\n",
      " [ 0.39399492 -2.02922822  0.12875919]\n",
      " [ 0.12921782  1.85737487  1.38858766]] \n",
      "\n",
      "C = X.T.dot(X) =\n",
      " [[ 0.21544285 -0.53956655  0.1884413 ]\n",
      " [-0.53956655 14.76984536  0.79220213]\n",
      " [ 0.1884413   0.79220213  2.31311751]] \n",
      "\n",
      "Inverse of C = np.linalg.inv(C)\n",
      " [[ 5.71689096  0.23820338 -0.54731485]\n",
      " [ 0.23820338  0.07889763 -0.04642662]\n",
      " [-0.54731485 -0.04642662  0.49280505]] \n",
      "\n",
      "Determinant of C = np.linalg.det(C) = 5.866266096576934\n",
      "Eigenvalues of C =\n",
      " [14.83899076  0.17289498  2.28651998]\n",
      "Eigenvectors of C =\n",
      " [[ 0.03599503 -0.99376271  0.10554635]\n",
      " [-0.99739323 -0.04233288 -0.05843528]\n",
      " [-0.06253888  0.10316784  0.99269597]]\n"
     ]
    }
   ],
   "source": [
    "X = np.random.randn(5,3)\n",
    "print('X =\\n', X, '\\n')\n",
    "\n",
    "C = X.T.dot(X)               # C = X^T * X is a square matrix\n",
    "print('C = X.T.dot(X) =\\n', C, '\\n')\n",
    "\n",
    "invC = np.linalg.inv(C)      # inverse of a square matrix\n",
    "print('Inverse of C = np.linalg.inv(C)\\n', invC, '\\n')\n",
    "\n",
    "detC = np.linalg.det(C)      # determinant of a square matrix\n",
    "print('Determinant of C = np.linalg.det(C) =', detC)\n",
    "\n",
    "S, U = np.linalg.eig(C)      # eigenvalue S and eigenvector U of a square matrix\n",
    "print('Eigenvalues of C =\\n', S)\n",
    "print('Eigenvectors of C =\\n', U)"
   ]
  },
  {
   "cell_type": "markdown",
   "metadata": {},
   "source": [
    "## 2.2 Introduction to Pandas\n",
    "\n",
    "Pandas provide two convenient data structures for storing and manipulating data--Series and DataFrame. A Series is similar to a one-dimensional array whereas a DataFrame is a tabular representation akin to a spreadsheet table.  \n",
    "\n",
    "### 2.2.1 Series\n",
    "\n",
    "A Series object consists of a one-dimensional array of values, whose elements can be referenced using an index array. A Series object can be created from a list, a numpy array, or a Python dictionary. You can apply most of the numpy functions on the Series object."
   ]
  },
  {
   "cell_type": "code",
   "execution_count": 16,
   "metadata": {},
   "outputs": [
    {
     "name": "stdout",
     "output_type": "stream",
     "text": [
      "Series, s =\n",
      " 0    3.1\n",
      "1    2.4\n",
      "2   -1.7\n",
      "3    0.2\n",
      "4   -2.9\n",
      "5    4.5\n",
      "dtype: float64 \n",
      "\n",
      "s.values = [ 3.1  2.4 -1.7  0.2 -2.9  4.5]\n",
      "s.index = RangeIndex(start=0, stop=6, step=1)\n",
      "s.dtype = float64\n"
     ]
    }
   ],
   "source": [
    "from pandas import Series\n",
    "\n",
    "s = Series([3.1, 2.4, -1.7, 0.2, -2.9, 4.5])   # creating a series from a list\n",
    "print('Series, s =\\n', s, '\\n')\n",
    "\n",
    "print('s.values =', s.values)     # display values of the Series\n",
    "print('s.index =', s.index)       # display indices of the Series\n",
    "print('s.dtype =', s.dtype)       # display the element type of the Series"
   ]
  },
  {
   "cell_type": "code",
   "execution_count": 17,
   "metadata": {},
   "outputs": [
    {
     "name": "stdout",
     "output_type": "stream",
     "text": [
      "Series s2 =\n",
      " 0   -2.414410\n",
      "1    0.201506\n",
      "2    1.087306\n",
      "3   -0.312928\n",
      "4   -0.055048\n",
      "5   -0.202986\n",
      "dtype: float64 \n",
      "\n",
      "s2.values = [-2.41440963  0.20150608  1.08730589 -0.31292756 -0.05504814 -0.20298585]\n",
      "s2.index = RangeIndex(start=0, stop=6, step=1)\n",
      "s2.dtype = float64\n"
     ]
    }
   ],
   "source": [
    "import numpy as np\n",
    "\n",
    "s2 = Series(np.random.randn(6))   # creating a series from a numpy ndarray\n",
    "print('Series s2 =\\n', s2, '\\n')\n",
    "print('s2.values =', s2.values)   # display values of the Series\n",
    "print('s2.index =', s2.index)     # display indices of the Series\n",
    "print('s2.dtype =', s2.dtype)     # display the element type of the Series"
   ]
  },
  {
   "cell_type": "code",
   "execution_count": 18,
   "metadata": {},
   "outputs": [
    {
     "name": "stdout",
     "output_type": "stream",
     "text": [
      "Series s3 =\n",
      " Jan 1    1.2\n",
      "Jan 2    2.5\n",
      "Jan 3   -2.2\n",
      "Jan 4    3.1\n",
      "Jan 5   -0.8\n",
      "Jan 6   -3.2\n",
      "dtype: float64 \n",
      "\n",
      "s3.values = [ 1.2  2.5 -2.2  3.1 -0.8 -3.2]\n",
      "s3.index = Index(['Jan 1', 'Jan 2', 'Jan 3', 'Jan 4', 'Jan 5', 'Jan 6'], dtype='object')\n",
      "s3.dtype = float64\n"
     ]
    }
   ],
   "source": [
    "s3 = Series([1.2,2.5,-2.2,3.1,-0.8,-3.2], \n",
    "            index = ['Jan 1','Jan 2','Jan 3','Jan 4','Jan 5','Jan 6',])\n",
    "print('Series s3 =\\n', s3, '\\n')\n",
    "print('s3.values =', s3.values)   # display values of the Series\n",
    "print('s3.index =', s3.index)     # display indices of the Series\n",
    "print('s3.dtype =', s3.dtype)     # display the element type of the Series"
   ]
  },
  {
   "cell_type": "code",
   "execution_count": 19,
   "metadata": {},
   "outputs": [
    {
     "name": "stdout",
     "output_type": "stream",
     "text": [
      "Series s4 =\n",
      " MI       Lansing\n",
      "CA    Sacramento\n",
      "TX        Austin\n",
      "MN       St Paul\n",
      "dtype: object \n",
      "\n",
      "s4.values = ['Lansing' 'Sacramento' 'Austin' 'St Paul']\n",
      "s4.index= Index(['MI', 'CA', 'TX', 'MN'], dtype='object')\n",
      "s4.dtype = object\n"
     ]
    }
   ],
   "source": [
    "capitals = {'MI': 'Lansing', 'CA': 'Sacramento', 'TX': 'Austin', 'MN': 'St Paul'}\n",
    "\n",
    "s4 = Series(capitals)   # creating a series from dictionary object\n",
    "print('Series s4 =\\n', s4, '\\n')\n",
    "print('s4.values =', s4.values)   # display values of the Series\n",
    "print('s4.index=', s4.index)      # display indices of the Series\n",
    "print('s4.dtype =', s4.dtype)     # display the element type of the Series"
   ]
  },
  {
   "cell_type": "code",
   "execution_count": 20,
   "metadata": {},
   "outputs": [
    {
     "name": "stdout",
     "output_type": "stream",
     "text": [
      "s3 =\n",
      " Jan 1    1.2\n",
      "Jan 2    2.5\n",
      "Jan 3   -2.2\n",
      "Jan 4    3.1\n",
      "Jan 5   -0.8\n",
      "Jan 6   -3.2\n",
      "dtype: float64 \n",
      "\n",
      "s3[2]= -2.2\n",
      "s3['Jan 3']= -2.2\n",
      "\n",
      "s3[1:3]=\n",
      "Jan 2    2.5\n",
      "Jan 3   -2.2\n",
      "dtype: float64\n",
      "\n",
      "s3.iloc([1:3])=\n",
      "Jan 2    2.5\n",
      "Jan 3   -2.2\n",
      "dtype: float64\n"
     ]
    }
   ],
   "source": [
    "s3 = Series([1.2,2.5,-2.2,3.1,-0.8,-3.2], \n",
    "            index = ['Jan 1','Jan 2','Jan 3','Jan 4','Jan 5','Jan 6',])\n",
    "print('s3 =\\n', s3, '\\n')\n",
    "\n",
    "# Accessing elements of a Series\n",
    "\n",
    "print('s3[2]=', s3[2])        # display third element of the Series\n",
    "print('s3[\\'Jan 3\\']=', s3['Jan 3'])   # indexing element of a Series \n",
    "\n",
    "print('\\ns3[1:3]=')             # display a slice of the Series\n",
    "print(s3[1:3])\n",
    "print('\\ns3.iloc([1:3])=')      # display a slice of the Series\n",
    "print(s3.iloc[1:3])"
   ]
  },
  {
   "cell_type": "markdown",
   "metadata": {},
   "source": [
    "There are various functions available to find the number of elements in a Series. Result of the function depends on whether null elements are included. "
   ]
  },
  {
   "cell_type": "code",
   "execution_count": 21,
   "metadata": {},
   "outputs": [
    {
     "name": "stdout",
     "output_type": "stream",
     "text": [
      "Series s3 =\n",
      " Jan 1    1.2\n",
      "Jan 2    2.5\n",
      "Jan 3   -2.2\n",
      "Jan 4    3.1\n",
      "Jan 5   -0.8\n",
      "Jan 6   -3.2\n",
      "Jan 7    NaN\n",
      "dtype: float64 \n",
      "\n",
      "Shape of s3 = (7,)\n",
      "Size of s3 = 7\n",
      "Count of s3 = 6\n"
     ]
    }
   ],
   "source": [
    "s3['Jan 7'] = np.nan\n",
    "print('Series s3 =\\n', s3, '\\n')\n",
    "\n",
    "print('Shape of s3 =', s3.shape)   # get the dimension of the Series\n",
    "print('Size of s3 =', s3.size)     # get the number of elements of the Series\n",
    "print('Count of s3 =', s3.count()) # get the number of non-null elements of the Series"
   ]
  },
  {
   "cell_type": "markdown",
   "metadata": {},
   "source": [
    "A boolean filter can be used to select elements of a Series"
   ]
  },
  {
   "cell_type": "code",
   "execution_count": 22,
   "metadata": {},
   "outputs": [
    {
     "name": "stdout",
     "output_type": "stream",
     "text": [
      "Jan 1    1.2\n",
      "Jan 2    2.5\n",
      "Jan 4    3.1\n",
      "dtype: float64\n"
     ]
    }
   ],
   "source": [
    "print(s3[s3 > 0])   # applying filter to select non-negative elements of the Series"
   ]
  },
  {
   "cell_type": "markdown",
   "metadata": {},
   "source": [
    "Scalar operations can be performed on elements of a numeric Series"
   ]
  },
  {
   "cell_type": "code",
   "execution_count": 23,
   "metadata": {},
   "outputs": [
    {
     "name": "stdout",
     "output_type": "stream",
     "text": [
      "s3 + 4 =\n",
      " Jan 1    5.2\n",
      "Jan 2    6.5\n",
      "Jan 3    1.8\n",
      "Jan 4    7.1\n",
      "Jan 5    3.2\n",
      "Jan 6    0.8\n",
      "Jan 7    NaN\n",
      "dtype: float64 \n",
      "\n",
      "s3 / 4 =\n",
      " Jan 1    0.300\n",
      "Jan 2    0.625\n",
      "Jan 3   -0.550\n",
      "Jan 4    0.775\n",
      "Jan 5   -0.200\n",
      "Jan 6   -0.800\n",
      "Jan 7      NaN\n",
      "dtype: float64\n"
     ]
    }
   ],
   "source": [
    "print('s3 + 4 =\\n', s3 + 4, '\\n')       \n",
    "print('s3 / 4 =\\n', s3 / 4)                 "
   ]
  },
  {
   "cell_type": "markdown",
   "metadata": {},
   "source": [
    "Numpy functions can be applied to pandas Series. "
   ]
  },
  {
   "cell_type": "code",
   "execution_count": 24,
   "metadata": {},
   "outputs": [
    {
     "name": "stdout",
     "output_type": "stream",
     "text": [
      "np.log(s3 + 4) =\n",
      " Jan 1    1.648659\n",
      "Jan 2    1.871802\n",
      "Jan 3    0.587787\n",
      "Jan 4    1.960095\n",
      "Jan 5    1.163151\n",
      "Jan 6   -0.223144\n",
      "Jan 7         NaN\n",
      "dtype: float64 \n",
      "\n",
      "np.exp(s3 - 4) =\n",
      " Jan 1    0.060810\n",
      "Jan 2    0.223130\n",
      "Jan 3    0.002029\n",
      "Jan 4    0.406570\n",
      "Jan 5    0.008230\n",
      "Jan 6    0.000747\n",
      "Jan 7         NaN\n",
      "dtype: float64 \n",
      "\n"
     ]
    }
   ],
   "source": [
    "print('np.log(s3 + 4) =\\n', np.log(s3 + 4), '\\n')    # applying log function to a numeric Series\n",
    "print('np.exp(s3 - 4) =\\n', np.exp(s3 - 4), '\\n')    # applying exponent function to a numeric Series"
   ]
  },
  {
   "cell_type": "markdown",
   "metadata": {},
   "source": [
    "The value_counts() function can be used for tabulating the counts of each discrete value in the Series. "
   ]
  },
  {
   "cell_type": "code",
   "execution_count": 25,
   "metadata": {},
   "outputs": [
    {
     "name": "stdout",
     "output_type": "stream",
     "text": [
      "colors =\n",
      " 0       red\n",
      "1      blue\n",
      "2      blue\n",
      "3    yellow\n",
      "4       red\n",
      "5     green\n",
      "6      blue\n",
      "7       NaN\n",
      "dtype: object \n",
      "\n",
      "colors.value_counts() =\n",
      " blue      3\n",
      "red       2\n",
      "green     1\n",
      "yellow    1\n",
      "dtype: int64\n"
     ]
    }
   ],
   "source": [
    "colors = Series(['red', 'blue', 'blue', 'yellow', 'red', 'green', 'blue', np.nan])\n",
    "print('colors =\\n', colors, '\\n')\n",
    "\n",
    "print('colors.value_counts() =\\n', colors.value_counts())"
   ]
  },
  {
   "cell_type": "markdown",
   "metadata": {},
   "source": [
    "### 2.2.2 DataFrame\n",
    "\n",
    "A DataFrame object is a tabular, spreadsheet-like data structure containing a collection of columns, each of which can be of different types (numeric, string, boolean, etc). Unlike Series, a DataFrame has distinct row and column indices. There are many ways to create a DataFrame object (e.g., from a dictionary, list of tuples, or even numpy's ndarrays)."
   ]
  },
  {
   "cell_type": "code",
   "execution_count": 26,
   "metadata": {},
   "outputs": [
    {
     "data": {
      "text/html": [
       "<div>\n",
       "<style scoped>\n",
       "    .dataframe tbody tr th:only-of-type {\n",
       "        vertical-align: middle;\n",
       "    }\n",
       "\n",
       "    .dataframe tbody tr th {\n",
       "        vertical-align: top;\n",
       "    }\n",
       "\n",
       "    .dataframe thead th {\n",
       "        text-align: right;\n",
       "    }\n",
       "</style>\n",
       "<table border=\"1\" class=\"dataframe\">\n",
       "  <thead>\n",
       "    <tr style=\"text-align: right;\">\n",
       "      <th></th>\n",
       "      <th>make</th>\n",
       "      <th>model</th>\n",
       "      <th>MSRP</th>\n",
       "    </tr>\n",
       "  </thead>\n",
       "  <tbody>\n",
       "    <tr>\n",
       "      <th>0</th>\n",
       "      <td>Ford</td>\n",
       "      <td>Taurus</td>\n",
       "      <td>27595</td>\n",
       "    </tr>\n",
       "    <tr>\n",
       "      <th>1</th>\n",
       "      <td>Honda</td>\n",
       "      <td>Accord</td>\n",
       "      <td>23570</td>\n",
       "    </tr>\n",
       "    <tr>\n",
       "      <th>2</th>\n",
       "      <td>Toyota</td>\n",
       "      <td>Camry</td>\n",
       "      <td>23495</td>\n",
       "    </tr>\n",
       "    <tr>\n",
       "      <th>3</th>\n",
       "      <td>Tesla</td>\n",
       "      <td>Model S</td>\n",
       "      <td>68000</td>\n",
       "    </tr>\n",
       "  </tbody>\n",
       "</table>\n",
       "</div>"
      ],
      "text/plain": [
       "     make    model   MSRP\n",
       "0    Ford   Taurus  27595\n",
       "1   Honda   Accord  23570\n",
       "2  Toyota    Camry  23495\n",
       "3   Tesla  Model S  68000"
      ]
     },
     "execution_count": 26,
     "metadata": {},
     "output_type": "execute_result"
    }
   ],
   "source": [
    "from pandas import DataFrame\n",
    "\n",
    "cars = {'make': ['Ford', 'Honda', 'Toyota', 'Tesla'],\n",
    "       'model': ['Taurus', 'Accord', 'Camry', 'Model S'],\n",
    "       'MSRP': [27595, 23570, 23495, 68000]}          \n",
    "carData = DataFrame(cars)            # creating DataFrame from dictionary\n",
    "carData                              # display the table"
   ]
  },
  {
   "cell_type": "code",
   "execution_count": 27,
   "metadata": {},
   "outputs": [
    {
     "name": "stdout",
     "output_type": "stream",
     "text": [
      "carData.index = RangeIndex(start=0, stop=4, step=1)\n",
      "carData.columns = Index(['make', 'model', 'MSRP'], dtype='object')\n"
     ]
    }
   ],
   "source": [
    "print('carData.index =', carData.index)         # print the row indices\n",
    "print('carData.columns =', carData.columns)     # print the column indices"
   ]
  },
  {
   "cell_type": "markdown",
   "metadata": {},
   "source": [
    "Inserting columns to an existing dataframe"
   ]
  },
  {
   "cell_type": "code",
   "execution_count": 28,
   "metadata": {},
   "outputs": [
    {
     "data": {
      "text/html": [
       "<div>\n",
       "<style scoped>\n",
       "    .dataframe tbody tr th:only-of-type {\n",
       "        vertical-align: middle;\n",
       "    }\n",
       "\n",
       "    .dataframe tbody tr th {\n",
       "        vertical-align: top;\n",
       "    }\n",
       "\n",
       "    .dataframe thead th {\n",
       "        text-align: right;\n",
       "    }\n",
       "</style>\n",
       "<table border=\"1\" class=\"dataframe\">\n",
       "  <thead>\n",
       "    <tr style=\"text-align: right;\">\n",
       "      <th></th>\n",
       "      <th>make</th>\n",
       "      <th>model</th>\n",
       "      <th>MSRP</th>\n",
       "      <th>year</th>\n",
       "      <th>dealership</th>\n",
       "    </tr>\n",
       "  </thead>\n",
       "  <tbody>\n",
       "    <tr>\n",
       "      <th>1</th>\n",
       "      <td>Ford</td>\n",
       "      <td>Taurus</td>\n",
       "      <td>27595</td>\n",
       "      <td>2018</td>\n",
       "      <td>Courtesy Ford</td>\n",
       "    </tr>\n",
       "    <tr>\n",
       "      <th>2</th>\n",
       "      <td>Honda</td>\n",
       "      <td>Accord</td>\n",
       "      <td>23570</td>\n",
       "      <td>2018</td>\n",
       "      <td>Capital Honda</td>\n",
       "    </tr>\n",
       "    <tr>\n",
       "      <th>3</th>\n",
       "      <td>Toyota</td>\n",
       "      <td>Camry</td>\n",
       "      <td>23495</td>\n",
       "      <td>2018</td>\n",
       "      <td>Spartan Toyota</td>\n",
       "    </tr>\n",
       "    <tr>\n",
       "      <th>4</th>\n",
       "      <td>Tesla</td>\n",
       "      <td>Model S</td>\n",
       "      <td>68000</td>\n",
       "      <td>2018</td>\n",
       "      <td>N/A</td>\n",
       "    </tr>\n",
       "  </tbody>\n",
       "</table>\n",
       "</div>"
      ],
      "text/plain": [
       "     make    model   MSRP  year      dealership\n",
       "1    Ford   Taurus  27595  2018   Courtesy Ford\n",
       "2   Honda   Accord  23570  2018   Capital Honda\n",
       "3  Toyota    Camry  23495  2018  Spartan Toyota\n",
       "4   Tesla  Model S  68000  2018             N/A"
      ]
     },
     "execution_count": 28,
     "metadata": {},
     "output_type": "execute_result"
    }
   ],
   "source": [
    "carData2 = DataFrame(cars, index = [1,2,3,4])  # change the row index\n",
    "carData2['year'] = 2018    # add column with same value\n",
    "carData2['dealership'] = ['Courtesy Ford','Capital Honda','Spartan Toyota','N/A']\n",
    "carData2                   # display table"
   ]
  },
  {
   "cell_type": "markdown",
   "metadata": {},
   "source": [
    "Creating DataFrame from a list of tuples."
   ]
  },
  {
   "cell_type": "code",
   "execution_count": 29,
   "metadata": {},
   "outputs": [
    {
     "data": {
      "text/html": [
       "<div>\n",
       "<style scoped>\n",
       "    .dataframe tbody tr th:only-of-type {\n",
       "        vertical-align: middle;\n",
       "    }\n",
       "\n",
       "    .dataframe tbody tr th {\n",
       "        vertical-align: top;\n",
       "    }\n",
       "\n",
       "    .dataframe thead th {\n",
       "        text-align: right;\n",
       "    }\n",
       "</style>\n",
       "<table border=\"1\" class=\"dataframe\">\n",
       "  <thead>\n",
       "    <tr style=\"text-align: right;\">\n",
       "      <th></th>\n",
       "      <th>year</th>\n",
       "      <th>temp</th>\n",
       "      <th>precip</th>\n",
       "    </tr>\n",
       "  </thead>\n",
       "  <tbody>\n",
       "    <tr>\n",
       "      <th>0</th>\n",
       "      <td>2011</td>\n",
       "      <td>45.1</td>\n",
       "      <td>32.4</td>\n",
       "    </tr>\n",
       "    <tr>\n",
       "      <th>1</th>\n",
       "      <td>2012</td>\n",
       "      <td>42.4</td>\n",
       "      <td>34.5</td>\n",
       "    </tr>\n",
       "    <tr>\n",
       "      <th>2</th>\n",
       "      <td>2013</td>\n",
       "      <td>47.2</td>\n",
       "      <td>39.2</td>\n",
       "    </tr>\n",
       "    <tr>\n",
       "      <th>3</th>\n",
       "      <td>2014</td>\n",
       "      <td>44.2</td>\n",
       "      <td>31.4</td>\n",
       "    </tr>\n",
       "    <tr>\n",
       "      <th>4</th>\n",
       "      <td>2015</td>\n",
       "      <td>39.9</td>\n",
       "      <td>29.8</td>\n",
       "    </tr>\n",
       "    <tr>\n",
       "      <th>5</th>\n",
       "      <td>2016</td>\n",
       "      <td>41.5</td>\n",
       "      <td>36.7</td>\n",
       "    </tr>\n",
       "  </tbody>\n",
       "</table>\n",
       "</div>"
      ],
      "text/plain": [
       "   year  temp  precip\n",
       "0  2011  45.1    32.4\n",
       "1  2012  42.4    34.5\n",
       "2  2013  47.2    39.2\n",
       "3  2014  44.2    31.4\n",
       "4  2015  39.9    29.8\n",
       "5  2016  41.5    36.7"
      ]
     },
     "execution_count": 29,
     "metadata": {},
     "output_type": "execute_result"
    }
   ],
   "source": [
    "tuplelist = [(2011,45.1,32.4),(2012,42.4,34.5),(2013,47.2,39.2),\n",
    "              (2014,44.2,31.4),(2015,39.9,29.8),(2016,41.5,36.7)]\n",
    "columnNames = ['year','temp','precip']\n",
    "weatherData = DataFrame(tuplelist, columns=columnNames)\n",
    "weatherData"
   ]
  },
  {
   "cell_type": "markdown",
   "metadata": {},
   "source": [
    "Creating DataFrame from numpy ndarray"
   ]
  },
  {
   "cell_type": "code",
   "execution_count": 30,
   "metadata": {},
   "outputs": [
    {
     "data": {
      "text/html": [
       "<div>\n",
       "<style scoped>\n",
       "    .dataframe tbody tr th:only-of-type {\n",
       "        vertical-align: middle;\n",
       "    }\n",
       "\n",
       "    .dataframe tbody tr th {\n",
       "        vertical-align: top;\n",
       "    }\n",
       "\n",
       "    .dataframe thead th {\n",
       "        text-align: right;\n",
       "    }\n",
       "</style>\n",
       "<table border=\"1\" class=\"dataframe\">\n",
       "  <thead>\n",
       "    <tr style=\"text-align: right;\">\n",
       "      <th></th>\n",
       "      <th>x1</th>\n",
       "      <th>x2</th>\n",
       "      <th>x3</th>\n",
       "    </tr>\n",
       "  </thead>\n",
       "  <tbody>\n",
       "    <tr>\n",
       "      <th>0</th>\n",
       "      <td>0.230388</td>\n",
       "      <td>0.661247</td>\n",
       "      <td>1.855171</td>\n",
       "    </tr>\n",
       "    <tr>\n",
       "      <th>1</th>\n",
       "      <td>1.106269</td>\n",
       "      <td>0.561564</td>\n",
       "      <td>-0.198542</td>\n",
       "    </tr>\n",
       "    <tr>\n",
       "      <th>2</th>\n",
       "      <td>-1.303481</td>\n",
       "      <td>-0.353702</td>\n",
       "      <td>0.207453</td>\n",
       "    </tr>\n",
       "    <tr>\n",
       "      <th>3</th>\n",
       "      <td>-0.690600</td>\n",
       "      <td>-0.053386</td>\n",
       "      <td>0.494674</td>\n",
       "    </tr>\n",
       "    <tr>\n",
       "      <th>4</th>\n",
       "      <td>0.674196</td>\n",
       "      <td>-0.651274</td>\n",
       "      <td>0.973582</td>\n",
       "    </tr>\n",
       "  </tbody>\n",
       "</table>\n",
       "</div>"
      ],
      "text/plain": [
       "         x1        x2        x3\n",
       "0  0.230388  0.661247  1.855171\n",
       "1  1.106269  0.561564 -0.198542\n",
       "2 -1.303481 -0.353702  0.207453\n",
       "3 -0.690600 -0.053386  0.494674\n",
       "4  0.674196 -0.651274  0.973582"
      ]
     },
     "execution_count": 30,
     "metadata": {},
     "output_type": "execute_result"
    }
   ],
   "source": [
    "import numpy as np\n",
    "\n",
    "npdata = np.random.randn(5,3)  # create a 5 by 3 random matrix\n",
    "columnNames = ['x1','x2','x3']\n",
    "data = DataFrame(npdata, columns=columnNames)\n",
    "data"
   ]
  },
  {
   "cell_type": "markdown",
   "metadata": {},
   "source": [
    "There are many ways to access elements of a DataFrame object."
   ]
  },
  {
   "cell_type": "code",
   "execution_count": 31,
   "metadata": {},
   "outputs": [
    {
     "name": "stdout",
     "output_type": "stream",
     "text": [
      "0    0.661247\n",
      "1    0.561564\n",
      "2   -0.353702\n",
      "3   -0.053386\n",
      "4   -0.651274\n",
      "Name: x2, dtype: float64\n",
      "<class 'pandas.core.series.Series'>\n"
     ]
    }
   ],
   "source": [
    "# accessing an entire column will return a Series object\n",
    "\n",
    "print(data['x2'])\n",
    "print(type(data['x2']))"
   ]
  },
  {
   "cell_type": "code",
   "execution_count": 32,
   "metadata": {},
   "outputs": [
    {
     "name": "stdout",
     "output_type": "stream",
     "text": [
      "Row 3 of data table:\n",
      "x1   -1.303481\n",
      "x2   -0.353702\n",
      "x3    0.207453\n",
      "Name: 2, dtype: float64\n",
      "<class 'pandas.core.series.Series'>\n",
      "\n",
      "Row 3 of car data table:\n",
      "make                  Toyota\n",
      "model                  Camry\n",
      "MSRP                   23495\n",
      "year                    2018\n",
      "dealership    Spartan Toyota\n",
      "Name: 3, dtype: object\n"
     ]
    }
   ],
   "source": [
    "# accessing an entire row will return a Series object\n",
    "\n",
    "print('Row 3 of data table:')\n",
    "print(data.iloc[2])       # returns the 3rd row of DataFrame\n",
    "print(type(data.iloc[2]))\n",
    "\n",
    "print('\\nRow 3 of car data table:')\n",
    "print(carData2.iloc[2])   # row contains objects of different types"
   ]
  },
  {
   "cell_type": "code",
   "execution_count": 33,
   "metadata": {},
   "outputs": [
    {
     "name": "stdout",
     "output_type": "stream",
     "text": [
      "carData2 =\n",
      "      make    model   MSRP  year      dealership\n",
      "1    Ford   Taurus  27595  2018   Courtesy Ford\n",
      "2   Honda   Accord  23570  2018   Capital Honda\n",
      "3  Toyota    Camry  23495  2018  Spartan Toyota\n",
      "4   Tesla  Model S  68000  2018             N/A\n",
      "\n",
      "carData2.iloc[1,2] = 23570\n",
      "carData2.loc[1,'model'] = Taurus\n",
      "\n",
      "carData2.iloc[1:3,1:3]=\n",
      "    model   MSRP\n",
      "2  Accord  23570\n",
      "3   Camry  23495\n"
     ]
    }
   ],
   "source": [
    "# accessing a specific element of the DataFrame\n",
    "\n",
    "print('carData2 =\\n', carData2)\n",
    "\n",
    "print('\\ncarData2.iloc[1,2] =', carData2.iloc[1,2])                # retrieving second row, third column\n",
    "print('carData2.loc[1,\\'model\\'] =', carData2.loc[1,'model'])    # retrieving second row, column named 'model'\n",
    "\n",
    "# accessing a slice of the DataFrame\n",
    "\n",
    "print('\\ncarData2.iloc[1:3,1:3]=')\n",
    "print(carData2.iloc[1:3,1:3])"
   ]
  },
  {
   "cell_type": "code",
   "execution_count": 34,
   "metadata": {},
   "outputs": [
    {
     "name": "stdout",
     "output_type": "stream",
     "text": [
      "carData2 =\n",
      "      make    model   MSRP  year      dealership\n",
      "1    Ford   Taurus  27595  2018   Courtesy Ford\n",
      "2   Honda   Accord  23570  2018   Capital Honda\n",
      "3  Toyota    Camry  23495  2018  Spartan Toyota\n",
      "4   Tesla  Model S  68000  2018             N/A \n",
      "\n",
      "carData2.shape = (4, 5)\n",
      "carData2.size = 20\n"
     ]
    }
   ],
   "source": [
    "print('carData2 =\\n', carData2, '\\n')\n",
    "\n",
    "print('carData2.shape =', carData2.shape)\n",
    "print('carData2.size =', carData2.size)"
   ]
  },
  {
   "cell_type": "code",
   "execution_count": 35,
   "metadata": {},
   "outputs": [
    {
     "name": "stdout",
     "output_type": "stream",
     "text": [
      "carData2 =\n",
      "      make    model   MSRP  year      dealership\n",
      "1    Ford   Taurus  27595  2018   Courtesy Ford\n",
      "2   Honda   Accord  23570  2018   Capital Honda\n",
      "3  Toyota    Camry  23495  2018  Spartan Toyota\n",
      "4   Tesla  Model S  68000  2018             N/A \n",
      "\n",
      "carData2[carData2.MSRP > 25000] =\n",
      "    make    model   MSRP  year     dealership\n",
      "1   Ford   Taurus  27595  2018  Courtesy Ford\n",
      "4  Tesla  Model S  68000  2018            N/A\n"
     ]
    }
   ],
   "source": [
    "# selection and filtering\n",
    "\n",
    "print('carData2 =\\n', carData2, '\\n')\n",
    "\n",
    "print('carData2[carData2.MSRP > 25000] =')  \n",
    "print(carData2[carData2.MSRP > 25000])"
   ]
  },
  {
   "cell_type": "markdown",
   "metadata": {},
   "source": [
    "### 2.2.3 Arithmetic Operations"
   ]
  },
  {
   "cell_type": "code",
   "execution_count": 36,
   "metadata": {},
   "outputs": [
    {
     "name": "stdout",
     "output_type": "stream",
     "text": [
      "         x1        x2        x3\n",
      "0  0.230388  0.661247  1.855171\n",
      "1  1.106269  0.561564 -0.198542\n",
      "2 -1.303481 -0.353702  0.207453\n",
      "3 -0.690600 -0.053386  0.494674\n",
      "4  0.674196 -0.651274  0.973582\n",
      "\n",
      "Data transpose operation: data.T\n",
      "           0         1         2         3         4\n",
      "x1  0.230388  1.106269 -1.303481 -0.690600  0.674196\n",
      "x2  0.661247  0.561564 -0.353702 -0.053386 -0.651274\n",
      "x3  1.855171 -0.198542  0.207453  0.494674  0.973582\n",
      "\n",
      "Addition: data + 4\n",
      "         x1        x2        x3\n",
      "0  4.230388  4.661247  5.855171\n",
      "1  5.106269  4.561564  3.801458\n",
      "2  2.696519  3.646298  4.207453\n",
      "3  3.309400  3.946614  4.494674\n",
      "4  4.674196  3.348726  4.973582\n",
      "\n",
      "Multiplication: data * 10\n",
      "          x1        x2         x3\n",
      "0   2.303881  6.612470  18.551706\n",
      "1  11.062686  5.615643  -1.985421\n",
      "2 -13.034807 -3.537017   2.074529\n",
      "3  -6.905998 -0.533858   4.946737\n",
      "4   6.741963 -6.512742   9.735820\n"
     ]
    }
   ],
   "source": [
    "print(data)\n",
    "\n",
    "print('\\nData transpose operation: data.T')\n",
    "print(data.T)    # transpose operation\n",
    "\n",
    "print('\\nAddition: data + 4')\n",
    "print(data + 4)    # addition operation\n",
    "\n",
    "print('\\nMultiplication: data * 10')\n",
    "print(data * 10)   # multiplication operation"
   ]
  },
  {
   "cell_type": "code",
   "execution_count": 37,
   "metadata": {},
   "outputs": [
    {
     "name": "stdout",
     "output_type": "stream",
     "text": [
      "data =\n",
      "          x1        x2        x3\n",
      "0  0.230388  0.661247  1.855171\n",
      "1  1.106269  0.561564 -0.198542\n",
      "2 -1.303481 -0.353702  0.207453\n",
      "3 -0.690600 -0.053386  0.494674\n",
      "4  0.674196 -0.651274  0.973582\n",
      "\n",
      "data2 =\n",
      "         x1        x2        x3\n",
      "0  4.341561  0.058650 -0.039210\n",
      "1  1.005071  1.205239 -1.177944\n",
      "2  0.040945 -0.720810 -1.242927\n",
      "3 -0.565230  1.219986 -0.730443\n",
      "4  0.198922 -0.472742  0.205678\n",
      "\n",
      "data + data2 = \n",
      "         x1        x2        x3\n",
      "0  4.571949  0.719897  1.815961\n",
      "1  2.111340  1.766803 -1.376486\n",
      "2 -1.262535 -1.074512 -1.035474\n",
      "3 -1.255830  1.166600 -0.235769\n",
      "4  0.873118 -1.124017  1.179260\n",
      "\n",
      "data * data2 = \n",
      "         x1        x2        x3\n",
      "0  1.000244  0.038782 -0.072741\n",
      "1  1.111879  0.676819  0.233871\n",
      "2 -0.053371  0.254952 -0.257849\n",
      "3  0.390348 -0.065130 -0.361331\n",
      "4  0.134113  0.307885  0.200245\n"
     ]
    }
   ],
   "source": [
    "print('data =\\n', data)\n",
    "\n",
    "columnNames = ['x1','x2','x3']\n",
    "data2 = DataFrame(np.random.randn(5,3), columns=columnNames)\n",
    "print('\\ndata2 =')\n",
    "print(data2)\n",
    "\n",
    "print('\\ndata + data2 = ')\n",
    "print(data.add(data2))\n",
    "\n",
    "print('\\ndata * data2 = ')\n",
    "print(data.mul(data2))"
   ]
  },
  {
   "cell_type": "code",
   "execution_count": 38,
   "metadata": {},
   "outputs": [
    {
     "name": "stdout",
     "output_type": "stream",
     "text": [
      "         x1        x2        x3\n",
      "0  0.230388  0.661247  1.855171\n",
      "1  1.106269  0.561564  0.198542\n",
      "2  1.303481  0.353702  0.207453\n",
      "3  0.690600  0.053386  0.494674\n",
      "4  0.674196  0.651274  0.973582\n",
      "\n",
      "Maximum value per column:\n",
      "x1    1.106269\n",
      "x2    0.661247\n",
      "x3    1.855171\n",
      "dtype: float64\n",
      "\n",
      "Minimum value per row:\n",
      "0    0.230388\n",
      "1   -0.198542\n",
      "2   -1.303481\n",
      "3   -0.690600\n",
      "4   -0.651274\n",
      "dtype: float64\n",
      "\n",
      "Sum of values per column:\n",
      "x1    0.016772\n",
      "x2    0.164450\n",
      "x3    3.332337\n",
      "dtype: float64\n",
      "\n",
      "Average value per row:\n",
      "0    0.915602\n",
      "1    0.489764\n",
      "2   -0.483243\n",
      "3   -0.083104\n",
      "4    0.332168\n",
      "dtype: float64\n",
      "\n",
      "Calculate max - min per column\n",
      "x1    2.409749\n",
      "x2    1.312521\n",
      "x3    2.053713\n",
      "dtype: float64\n",
      "\n",
      "Calculate max - min per row\n",
      "0    1.624783\n",
      "1    1.304811\n",
      "2    1.510934\n",
      "3    1.185273\n",
      "4    1.624856\n",
      "dtype: float64\n"
     ]
    }
   ],
   "source": [
    "print(data.abs())    # get the absolute value for each element\n",
    "\n",
    "print('\\nMaximum value per column:')\n",
    "print(data.max())    # get maximum value for each column\n",
    "\n",
    "print('\\nMinimum value per row:')\n",
    "print(data.min(axis=1))    # get minimum value for each row\n",
    "\n",
    "print('\\nSum of values per column:')\n",
    "print(data.sum())    # get sum of values for each column\n",
    "\n",
    "print('\\nAverage value per row:')\n",
    "print(data.mean(axis=1))    # get average value for each row\n",
    "\n",
    "print('\\nCalculate max - min per column')\n",
    "f = lambda x: x.max() - x.min()\n",
    "print(data.apply(f))\n",
    "\n",
    "print('\\nCalculate max - min per row')\n",
    "f = lambda x: x.max() - x.min()\n",
    "print(data.apply(f, axis=1))"
   ]
  },
  {
   "cell_type": "markdown",
   "metadata": {},
   "source": [
    "The value_counts() function can also be applied to a pandas DataFrame"
   ]
  },
  {
   "cell_type": "code",
   "execution_count": 39,
   "metadata": {},
   "outputs": [
    {
     "name": "stdout",
     "output_type": "stream",
     "text": [
      "shapeData =\n",
      "        shape color\n",
      "0     circle   red\n",
      "1     square   red\n",
      "2     square   red\n",
      "3     square  blue\n",
      "4     circle  blue\n",
      "5  rectangle  blue \n",
      "\n",
      "shapeData.value_counts() =\n",
      " shape      color\n",
      "circle     blue     1\n",
      "           red      1\n",
      "rectangle  blue     1\n",
      "square     blue     1\n",
      "           red      2\n",
      "dtype: int64\n"
     ]
    }
   ],
   "source": [
    "objects = {'shape': ['circle', 'square', 'square', 'square', 'circle', 'rectangle'],\n",
    "           'color': ['red', 'red', 'red', 'blue', 'blue', 'blue']}\n",
    "\n",
    "shapeData = DataFrame(objects)\n",
    "print('shapeData =\\n', shapeData, '\\n')\n",
    "\n",
    "print('shapeData.value_counts() =\\n', shapeData.value_counts().sort_values())"
   ]
  },
  {
   "cell_type": "markdown",
   "metadata": {},
   "source": [
    "### 2.2.4 Plotting Series and DataFrame\n",
    "\n",
    "There are many built-in functions available to plot the data stored in a Series or a DataFrame.\n",
    "\n",
    "**(a)** Line plot"
   ]
  },
  {
   "cell_type": "code",
   "execution_count": 40,
   "metadata": {},
   "outputs": [
    {
     "data": {
      "text/plain": [
       "<AxesSubplot:title={'center':'Line plot'}>"
      ]
     },
     "execution_count": 40,
     "metadata": {},
     "output_type": "execute_result"
    },
    {
     "data": {
      "image/png": "[encoded data removed]",
      "text/plain": [
       "<Figure size 432x288 with 1 Axes>"
      ]
     },
     "metadata": {
      "needs_background": "light"
     },
     "output_type": "display_data"
    }
   ],
   "source": [
    "%matplotlib inline\n",
    "\n",
    "s3 = Series([1.2,2.5,-2.2,3.1,-0.8,-3.2,1.4], \n",
    "            index = ['Jan 1','Jan 2','Jan 3','Jan 4','Jan 5','Jan 6','Jan 7'])\n",
    "s3.plot(kind='line', title='Line plot')"
   ]
  },
  {
   "cell_type": "markdown",
   "metadata": {},
   "source": [
    "**(b)** Bar plot"
   ]
  },
  {
   "cell_type": "code",
   "execution_count": 41,
   "metadata": {},
   "outputs": [
    {
     "data": {
      "text/plain": [
       "<AxesSubplot:title={'center':'Bar plot'}>"
      ]
     },
     "execution_count": 41,
     "metadata": {},
     "output_type": "execute_result"
    },
    {
     "data": {
      "image/png": "[encoded data removed]",
      "text/plain": [
       "<Figure size 432x288 with 1 Axes>"
      ]
     },
     "metadata": {
      "needs_background": "light"
     },
     "output_type": "display_data"
    }
   ],
   "source": [
    "s3.plot(kind='bar', title='Bar plot')"
   ]
  },
  {
   "cell_type": "markdown",
   "metadata": {},
   "source": [
    "**(c)** Histogram"
   ]
  },
  {
   "cell_type": "code",
   "execution_count": 42,
   "metadata": {},
   "outputs": [
    {
     "data": {
      "text/plain": [
       "<AxesSubplot:title={'center':'Histogram'}, ylabel='Frequency'>"
      ]
     },
     "execution_count": 42,
     "metadata": {},
     "output_type": "execute_result"
    },
    {
     "data": {
      "image/png": "[encoded data removed]",
      "text/plain": [
       "<Figure size 432x288 with 1 Axes>"
      ]
     },
     "metadata": {
      "needs_background": "light"
     },
     "output_type": "display_data"
    }
   ],
   "source": [
    "s3.plot(kind='hist', title = 'Histogram')"
   ]
  },
  {
   "cell_type": "markdown",
   "metadata": {},
   "source": [
    "**(d)** Box plot"
   ]
  },
  {
   "cell_type": "code",
   "execution_count": 43,
   "metadata": {},
   "outputs": [
    {
     "data": {
      "text/plain": [
       "<AxesSubplot:title={'center':'Box plot'}>"
      ]
     },
     "execution_count": 43,
     "metadata": {},
     "output_type": "execute_result"
    },
    {
     "data": {
      "image/png": "[encoded data removed]",
      "text/plain": [
       "<Figure size 432x288 with 1 Axes>"
      ]
     },
     "metadata": {
      "needs_background": "light"
     },
     "output_type": "display_data"
    }
   ],
   "source": [
    "tuplelist = [(2011,45.1,32.4),(2012,42.4,34.5),(2013,47.2,39.2),\n",
    "              (2014,44.2,31.4),(2015,39.9,29.8),(2016,41.5,36.7)]\n",
    "columnNames = ['year','temp','precip']\n",
    "weatherData = DataFrame(tuplelist, columns=columnNames)\n",
    "weatherData[['temp','precip']].plot(kind='box', title='Box plot')"
   ]
  },
  {
   "cell_type": "markdown",
   "metadata": {},
   "source": [
    "**(e)** Scatter plot "
   ]
  },
  {
   "cell_type": "code",
   "execution_count": 44,
   "metadata": {},
   "outputs": [
    {
     "name": "stdout",
     "output_type": "stream",
     "text": [
      "weatherData =\n",
      "    year  temp  precip\n",
      "0  2011  45.1    32.4\n",
      "1  2012  42.4    34.5\n",
      "2  2013  47.2    39.2\n",
      "3  2014  44.2    31.4\n",
      "4  2015  39.9    29.8\n",
      "5  2016  41.5    36.7\n"
     ]
    },
    {
     "data": {
      "text/plain": [
       "<AxesSubplot:xlabel='temp', ylabel='precip'>"
      ]
     },
     "execution_count": 44,
     "metadata": {},
     "output_type": "execute_result"
    },
    {
     "data": {
      "image/png": "[encoded data removed]",
      "text/plain": [
       "<Figure size 432x288 with 1 Axes>"
      ]
     },
     "metadata": {
      "needs_background": "light"
     },
     "output_type": "display_data"
    }
   ],
   "source": [
    "print('weatherData =\\n', weatherData)\n",
    "\n",
    "weatherData.plot(kind='scatter', x='temp', y='precip')"
   ]
  },
  {
   "cell_type": "code",
   "execution_count": null,
   "metadata": {},
   "outputs": [],
   "source": []
  }
 ],
 "metadata": {
  "kernelspec": {
   "display_name": "Python 3",
   "language": "python",
   "name": "python3"
  },
  "language_info": {
   "codemirror_mode": {
    "name": "ipython",
    "version": 3
   },
   "file_extension": ".py",
   "mimetype": "text/x-python",
   "name": "python",
   "nbconvert_exporter": "python",
   "pygments_lexer": "ipython3",
   "version": "3.8.8"
  },
  "toc": {
   "base_numbering": 1,
   "nav_menu": {},
   "number_sections": false,
   "sideBar": true,
   "skip_h1_title": false,
   "title_cell": "Table of Contents",
   "title_sidebar": "Contents",
   "toc_cell": false,
   "toc_position": {
    "height": "calc(100% - 180px)",
    "left": "10px",
    "top": "150px",
    "width": "384px"
   },
   "toc_section_display": true,
   "toc_window_display": false
  }
 },
 "nbformat": 4,
 "nbformat_minor": 2
}

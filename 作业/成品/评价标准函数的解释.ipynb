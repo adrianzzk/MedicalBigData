{
 "cells": [
  {
   "cell_type": "markdown",
   "id": "eaacdfa4",
   "metadata": {},
   "source": [
    "# 以下三个函数用来分析模型"
   ]
  },
  {
   "cell_type": "markdown",
   "id": "684ceed0",
   "metadata": {},
   "source": [
    "## show_scores(y_pred1,y_pred2,y_test)"
   ]
  },
  {
   "cell_type": "markdown",
   "id": "96943b39",
   "metadata": {},
   "source": [
    "### 用来看指标"
   ]
  },
  {
   "cell_type": "markdown",
   "id": "06d65b81",
   "metadata": {},
   "source": [
    "函数输入为：y_pred1,y_pred2,y_test"
   ]
  },
  {
   "cell_type": "markdown",
   "id": "1ede75c3",
   "metadata": {},
   "source": [
    "y_pred1：预测的结果"
   ]
  },
  {
   "cell_type": "markdown",
   "id": "12b109ba",
   "metadata": {},
   "source": [
    "y_pred2：预测的概率"
   ]
  },
  {
   "cell_type": "markdown",
   "id": "7b752b8d",
   "metadata": {},
   "source": [
    "y_test：y的测试集"
   ]
  },
  {
   "cell_type": "markdown",
   "id": "869e38a4",
   "metadata": {},
   "source": [
    "## plot_roc(y_pred2,y_test,name)"
   ]
  },
  {
   "cell_type": "markdown",
   "id": "6cc506f6",
   "metadata": {},
   "source": [
    "### 用来生成roc图"
   ]
  },
  {
   "cell_type": "markdown",
   "id": "689d7ea3",
   "metadata": {},
   "source": [
    "函数输入为：y_pred2,y_test,name"
   ]
  },
  {
   "cell_type": "markdown",
   "id": "dedb5cdf",
   "metadata": {},
   "source": [
    "y_pred2：预测的概率"
   ]
  },
  {
   "cell_type": "markdown",
   "id": "2fbbee86",
   "metadata": {},
   "source": [
    "y_test：y的测试集"
   ]
  },
  {
   "cell_type": "markdown",
   "id": "d619c8ab",
   "metadata": {},
   "source": [
    "name：生成图的名称"
   ]
  },
  {
   "cell_type": "markdown",
   "id": "06544757",
   "metadata": {},
   "source": [
    "## show_confusion_matrix(model,X_test,y_test,y_pred1)"
   ]
  },
  {
   "cell_type": "markdown",
   "id": "717ddcd6",
   "metadata": {},
   "source": [
    "### 生成混淆矩阵"
   ]
  },
  {
   "cell_type": "markdown",
   "id": "8aac7909",
   "metadata": {},
   "source": [
    "函数输入为：model,X_test,y_test,y_pred1"
   ]
  },
  {
   "cell_type": "markdown",
   "id": "a38a3d99",
   "metadata": {},
   "source": [
    "model：所建的模型"
   ]
  },
  {
   "cell_type": "markdown",
   "id": "b7bd74b5",
   "metadata": {},
   "source": [
    "注意：要与设置的变量名称一致，例如tree = tree.DecisionTreeClassifier()，则model要填tree"
   ]
  },
  {
   "cell_type": "markdown",
   "id": "0f40d443",
   "metadata": {},
   "source": [
    "X_test：x的测试集"
   ]
  },
  {
   "cell_type": "markdown",
   "id": "eb1e53fd",
   "metadata": {},
   "source": [
    "y_test：y的测试集"
   ]
  },
  {
   "cell_type": "markdown",
   "id": "e9ba12a3",
   "metadata": {},
   "source": [
    "y_pred1：预测的结果"
   ]
  },
  {
   "cell_type": "code",
   "execution_count": null,
   "id": "78053ae0",
   "metadata": {},
   "outputs": [],
   "source": [
    "rom sklearn import metrics\n",
    "from sklearn.metrics import roc_curve, auc\n",
    "from sklearn.metrics import confusion_matrix\n",
    "import matplotlib.pyplot as plt\n",
    "\n",
    "def show_scores(y_pred1,y_pred2,y_test):\n",
    "    print(\"accuracy_score is:\",metrics.accuracy_score(y_test,y_pred1))\n",
    "    print(\"roc_auc_score is:\",metrics.roc_auc_score(y_test,y_pred2))\n",
    "    print(\"precision_score is:\",metrics.precision_score(y_test,y_pred1))\n",
    "    print(\"recall_score is:\",metrics.recall_score(y_test,y_pred1))\n",
    "    print(\"f1_score is:\",metrics.f1_score(y_test,y_pred1))\n",
    "    print(\"classification_report:\")\n",
    "    print(metrics.classification_report(y_test,y_pred1))\n",
    "    \n",
    "def plot_roc(y_pred2,y_test,name):\n",
    "    fpr, tpr, thersholds = roc_curve(y_test, y_pred2, pos_label=1)\n",
    "    fpr,tpr,threshold = roc_curve(y_test, y_pred2) ###计算真阳率和假阳率\n",
    "    roc_auc = auc(fpr,tpr) ###计算auc的值\n",
    "    plt.figure()\n",
    "    lw = 2\n",
    "    plt.figure(figsize=(7,5))\n",
    "    plt.plot(fpr, tpr, color='darkorange',\n",
    "         lw=lw, label='ROC curve (area = %0.2f)' % roc_auc) ###假阳率为横坐标，真阳率为纵坐标做曲线\n",
    "    plt.plot([0, 1], [0, 1], color='navy', lw=lw, linestyle='--')\n",
    "    # for i, value in enumerate(thersholds):\n",
    "    #     print(\"%f %f %f\" % (fpr[i], tpr[i], value))\n",
    "    plt.xlim([-0.05, 1.05])  # 设置x、y轴的上下限，以免和边缘重合，更好的观察图像的整体\n",
    "    plt.ylim([-0.05, 1.05])\n",
    "    plt.xlabel('False Positive Rate')\n",
    "    plt.ylabel('True Positive Rate')  # 可以使用中文，但需要导入一些库即字体\n",
    "    plt.title(name)\n",
    "    plt.legend(loc=\"lower right\")\n",
    "    plt.show()\n",
    "    #plt.savefig('./naive_bayes.jpg')#保存图片\n",
    "\n",
    "def show_confusion_matrix(model,X_test,y_test,y_pred1):\n",
    "    y_pred = model.predict(X_test)\n",
    "    confmat = confusion_matrix(y_true=y_test,y_pred=y_pred1)\n",
    "    fig,ax = plt.subplots(figsize=(2.5,2.5))\n",
    "    ax.matshow(confmat, cmap=plt.cm.Blues,alpha=0.3)\n",
    "    for i in range(confmat.shape[0]):\n",
    "        for j in range(confmat.shape[1]):\n",
    "            ax.text(x=j,y=i,s=confmat[i,j],va='center',ha='center')\n",
    "    plt.xlabel('predicted label')\n",
    "    plt.ylabel('true label')\n",
    "    plt.show()   "
   ]
  }
 ],
 "metadata": {
  "kernelspec": {
   "display_name": "Python 3 (ipykernel)",
   "language": "python",
   "name": "python3"
  },
  "language_info": {
   "codemirror_mode": {
    "name": "ipython",
    "version": 3
   },
   "file_extension": ".py",
   "mimetype": "text/x-python",
   "name": "python",
   "nbconvert_exporter": "python",
   "pygments_lexer": "ipython3",
   "version": "3.9.13"
  }
 },
 "nbformat": 4,
 "nbformat_minor": 5
}

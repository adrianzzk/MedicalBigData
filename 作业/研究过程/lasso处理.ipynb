{
 "cells": [
  {
   "cell_type": "markdown",
   "id": "f7ac4b76",
   "metadata": {},
   "source": [
    "# 不要随意修改此版本"
   ]
  },
  {
   "cell_type": "markdown",
   "id": "41ca4a22",
   "metadata": {},
   "source": [
    "当自己所负责的模块调试无误后，请将代码复制到此处"
   ]
  },
  {
   "cell_type": "markdown",
   "id": "250f9871",
   "metadata": {},
   "source": [
    "建议每个人在自己的文件夹下重新建立一个文件来运行文件或调参"
   ]
  },
  {
   "cell_type": "markdown",
   "id": "b7617fe1",
   "metadata": {},
   "source": [
    "不要多人在本文件修改"
   ]
  },
  {
   "cell_type": "markdown",
   "id": "3529c0d0",
   "metadata": {},
   "source": [
    "如要修改请提前在微信群向大家说明"
   ]
  },
  {
   "cell_type": "markdown",
   "id": "71100d36",
   "metadata": {},
   "source": [
    "# 导入库（如果没有你需要的，请在这里import并重新运行）"
   ]
  },
  {
   "cell_type": "code",
   "execution_count": 1,
   "id": "c6a84709",
   "metadata": {},
   "outputs": [],
   "source": [
    "import os\n",
    "import time \n",
    "import pandas as pd\n",
    "import numpy as np\n",
    "import seaborn as sns\n",
    "from sklearn.linear_model import LogisticRegression\n",
    "from sklearn.svm import SVC, LinearSVC\n",
    "from sklearn.ensemble import RandomForestClassifier\n",
    "from sklearn.neighbors import KNeighborsClassifier\n",
    "from sklearn.naive_bayes import GaussianNB\n",
    "from sklearn.linear_model import Perceptron\n",
    "from sklearn.linear_model import SGDClassifier\n",
    "from sklearn.tree import DecisionTreeClassifier\n",
    "from sklearn import metrics\n",
    "from datetime import datetime\n",
    "import matplotlib.pyplot as plt\n",
    "from sklearn.metrics import roc_auc_score, roc_curve, mean_squared_error,mean_absolute_error, f1_score\n",
    "import lightgbm\n",
    "from lightgbm import Dataset\n",
    "import xgboost as xgb\n",
    "from sklearn.ensemble import RandomForestRegressor as rfr\n",
    "from sklearn.ensemble import ExtraTreesRegressor as etr\n",
    "from sklearn.linear_model import BayesianRidge as br\n",
    "from sklearn.ensemble import GradientBoostingRegressor as gbr\n",
    "from sklearn.linear_model import Ridge\n",
    "from sklearn.linear_model import Lasso\n",
    "from sklearn.linear_model import LinearRegression as lr\n",
    "from sklearn.linear_model import ElasticNet as en\n",
    "from sklearn.kernel_ridge import KernelRidge as kr\n",
    "from sklearn.model_selection import  KFold, StratifiedKFold,GroupKFold, RepeatedKFold\n",
    "from sklearn.model_selection import train_test_split\n",
    "from sklearn.model_selection import GridSearchCV\n",
    "from sklearn import preprocessing\n",
    "from sklearn.preprocessing import StandardScaler\n",
    "from sklearn.utils import shuffle\n",
    "from sklearn.linear_model import LassoCV,Lasso\n",
    "import logging\n",
    "from numpy import int64,float64\n",
    "import warnings\n",
    "warnings.filterwarnings('ignore') #消除warning"
   ]
  },
  {
   "cell_type": "markdown",
   "id": "b2d2b836",
   "metadata": {},
   "source": [
    "# 读取数据"
   ]
  },
  {
   "cell_type": "code",
   "execution_count": 2,
   "id": "660c7754",
   "metadata": {},
   "outputs": [
    {
     "data": {
      "text/html": [
       "<div>\n",
       "<style scoped>\n",
       "    .dataframe tbody tr th:only-of-type {\n",
       "        vertical-align: middle;\n",
       "    }\n",
       "\n",
       "    .dataframe tbody tr th {\n",
       "        vertical-align: top;\n",
       "    }\n",
       "\n",
       "    .dataframe thead th {\n",
       "        text-align: right;\n",
       "    }\n",
       "</style>\n",
       "<table border=\"1\" class=\"dataframe\">\n",
       "  <thead>\n",
       "    <tr style=\"text-align: right;\">\n",
       "      <th></th>\n",
       "      <th>SAMPLE_ID</th>\n",
       "      <th>TYPE</th>\n",
       "      <th>Unnamed: 0</th>\n",
       "      <th>A1BG</th>\n",
       "      <th>A2M</th>\n",
       "      <th>NAT1</th>\n",
       "      <th>NAT2</th>\n",
       "      <th>SERPINA3</th>\n",
       "      <th>AADAC</th>\n",
       "      <th>AAMP</th>\n",
       "      <th>...</th>\n",
       "      <th>LOC100289341</th>\n",
       "      <th>ZNF605</th>\n",
       "      <th>NHEG1</th>\n",
       "      <th>LOC100302401</th>\n",
       "      <th>LOC100302640</th>\n",
       "      <th>LOC100302650</th>\n",
       "      <th>NCRNA00182</th>\n",
       "      <th>TMED7-TICAM2</th>\n",
       "      <th>TSNAX-DISC1</th>\n",
       "      <th>LOC100303728</th>\n",
       "    </tr>\n",
       "  </thead>\n",
       "  <tbody>\n",
       "    <tr>\n",
       "      <th>0</th>\n",
       "      <td>HCCDB-15.S1</td>\n",
       "      <td>HCC</td>\n",
       "      <td>HCCDB-15.S1</td>\n",
       "      <td>15.57</td>\n",
       "      <td>16.20</td>\n",
       "      <td>6.29</td>\n",
       "      <td>6.76</td>\n",
       "      <td>16.53</td>\n",
       "      <td>11.38</td>\n",
       "      <td>10.49</td>\n",
       "      <td>...</td>\n",
       "      <td>4.76</td>\n",
       "      <td>7.62</td>\n",
       "      <td>2.30</td>\n",
       "      <td>2.92</td>\n",
       "      <td>0.00</td>\n",
       "      <td>5.51</td>\n",
       "      <td>3.68</td>\n",
       "      <td>4.06</td>\n",
       "      <td>0.00</td>\n",
       "      <td>5.59</td>\n",
       "    </tr>\n",
       "    <tr>\n",
       "      <th>1</th>\n",
       "      <td>HCCDB-15.S2</td>\n",
       "      <td>HCC</td>\n",
       "      <td>HCCDB-15.S2</td>\n",
       "      <td>8.61</td>\n",
       "      <td>11.66</td>\n",
       "      <td>5.12</td>\n",
       "      <td>1.72</td>\n",
       "      <td>11.52</td>\n",
       "      <td>11.01</td>\n",
       "      <td>11.10</td>\n",
       "      <td>...</td>\n",
       "      <td>4.31</td>\n",
       "      <td>9.15</td>\n",
       "      <td>0.82</td>\n",
       "      <td>2.98</td>\n",
       "      <td>1.34</td>\n",
       "      <td>2.76</td>\n",
       "      <td>3.93</td>\n",
       "      <td>6.83</td>\n",
       "      <td>1.21</td>\n",
       "      <td>5.06</td>\n",
       "    </tr>\n",
       "    <tr>\n",
       "      <th>2</th>\n",
       "      <td>HCCDB-15.S3</td>\n",
       "      <td>HCC</td>\n",
       "      <td>HCCDB-15.S3</td>\n",
       "      <td>12.77</td>\n",
       "      <td>16.34</td>\n",
       "      <td>6.67</td>\n",
       "      <td>5.22</td>\n",
       "      <td>14.39</td>\n",
       "      <td>11.97</td>\n",
       "      <td>10.55</td>\n",
       "      <td>...</td>\n",
       "      <td>4.07</td>\n",
       "      <td>9.15</td>\n",
       "      <td>0.00</td>\n",
       "      <td>4.18</td>\n",
       "      <td>0.75</td>\n",
       "      <td>2.54</td>\n",
       "      <td>4.13</td>\n",
       "      <td>5.83</td>\n",
       "      <td>0.00</td>\n",
       "      <td>4.43</td>\n",
       "    </tr>\n",
       "    <tr>\n",
       "      <th>3</th>\n",
       "      <td>HCCDB-15.S4</td>\n",
       "      <td>HCC</td>\n",
       "      <td>HCCDB-15.S4</td>\n",
       "      <td>14.76</td>\n",
       "      <td>17.96</td>\n",
       "      <td>6.72</td>\n",
       "      <td>7.31</td>\n",
       "      <td>15.03</td>\n",
       "      <td>11.97</td>\n",
       "      <td>11.27</td>\n",
       "      <td>...</td>\n",
       "      <td>4.97</td>\n",
       "      <td>9.12</td>\n",
       "      <td>0.00</td>\n",
       "      <td>3.58</td>\n",
       "      <td>0.88</td>\n",
       "      <td>3.23</td>\n",
       "      <td>2.60</td>\n",
       "      <td>5.93</td>\n",
       "      <td>0.00</td>\n",
       "      <td>3.36</td>\n",
       "    </tr>\n",
       "    <tr>\n",
       "      <th>4</th>\n",
       "      <td>HCCDB-15.S5</td>\n",
       "      <td>HCC</td>\n",
       "      <td>HCCDB-15.S5</td>\n",
       "      <td>12.83</td>\n",
       "      <td>14.38</td>\n",
       "      <td>7.81</td>\n",
       "      <td>7.23</td>\n",
       "      <td>14.59</td>\n",
       "      <td>12.29</td>\n",
       "      <td>11.06</td>\n",
       "      <td>...</td>\n",
       "      <td>3.66</td>\n",
       "      <td>8.95</td>\n",
       "      <td>0.00</td>\n",
       "      <td>3.52</td>\n",
       "      <td>0.00</td>\n",
       "      <td>2.16</td>\n",
       "      <td>2.99</td>\n",
       "      <td>4.96</td>\n",
       "      <td>0.00</td>\n",
       "      <td>5.51</td>\n",
       "    </tr>\n",
       "  </tbody>\n",
       "</table>\n",
       "<p>5 rows × 20533 columns</p>\n",
       "</div>"
      ],
      "text/plain": [
       "     SAMPLE_ID TYPE   Unnamed: 0   A1BG    A2M  NAT1  NAT2  SERPINA3  AADAC  \\\n",
       "0  HCCDB-15.S1  HCC  HCCDB-15.S1  15.57  16.20  6.29  6.76     16.53  11.38   \n",
       "1  HCCDB-15.S2  HCC  HCCDB-15.S2   8.61  11.66  5.12  1.72     11.52  11.01   \n",
       "2  HCCDB-15.S3  HCC  HCCDB-15.S3  12.77  16.34  6.67  5.22     14.39  11.97   \n",
       "3  HCCDB-15.S4  HCC  HCCDB-15.S4  14.76  17.96  6.72  7.31     15.03  11.97   \n",
       "4  HCCDB-15.S5  HCC  HCCDB-15.S5  12.83  14.38  7.81  7.23     14.59  12.29   \n",
       "\n",
       "    AAMP  ...  LOC100289341  ZNF605  NHEG1  LOC100302401  LOC100302640  \\\n",
       "0  10.49  ...          4.76    7.62   2.30          2.92          0.00   \n",
       "1  11.10  ...          4.31    9.15   0.82          2.98          1.34   \n",
       "2  10.55  ...          4.07    9.15   0.00          4.18          0.75   \n",
       "3  11.27  ...          4.97    9.12   0.00          3.58          0.88   \n",
       "4  11.06  ...          3.66    8.95   0.00          3.52          0.00   \n",
       "\n",
       "   LOC100302650  NCRNA00182  TMED7-TICAM2  TSNAX-DISC1  LOC100303728  \n",
       "0          5.51        3.68          4.06         0.00          5.59  \n",
       "1          2.76        3.93          6.83         1.21          5.06  \n",
       "2          2.54        4.13          5.83         0.00          4.43  \n",
       "3          3.23        2.60          5.93         0.00          3.36  \n",
       "4          2.16        2.99          4.96         0.00          5.51  \n",
       "\n",
       "[5 rows x 20533 columns]"
      ]
     },
     "execution_count": 2,
     "metadata": {},
     "output_type": "execute_result"
    }
   ],
   "source": [
    "data = pd.read_csv('data.csv')\n",
    "data.head()"
   ]
  },
  {
   "cell_type": "code",
   "execution_count": 3,
   "id": "358be46e",
   "metadata": {},
   "outputs": [
    {
     "name": "stdout",
     "output_type": "stream",
     "text": [
      "HCC         351\n",
      "Adjacent     49\n",
      "Name: TYPE, dtype: int64 Index(['SAMPLE_ID', 'TYPE', 'Unnamed: 0', 'A1BG', 'A2M', 'NAT1', 'NAT2',\n",
      "       'SERPINA3', 'AADAC', 'AAMP',\n",
      "       ...\n",
      "       'LOC100289341', 'ZNF605', 'NHEG1', 'LOC100302401', 'LOC100302640',\n",
      "       'LOC100302650', 'NCRNA00182', 'TMED7-TICAM2', 'TSNAX-DISC1',\n",
      "       'LOC100303728'],\n",
      "      dtype='object', length=20533)\n"
     ]
    }
   ],
   "source": [
    "print(data.TYPE.value_counts(),data.columns)"
   ]
  },
  {
   "cell_type": "markdown",
   "id": "de50a9f7",
   "metadata": {},
   "source": [
    "##### 数据属性过多，并且样本不平衡（7:1）"
   ]
  },
  {
   "cell_type": "markdown",
   "id": "cb1ec0be",
   "metadata": {},
   "source": [
    "## lasso回归筛选特征"
   ]
  },
  {
   "cell_type": "code",
   "execution_count": 4,
   "id": "cca6ea13",
   "metadata": {},
   "outputs": [],
   "source": [
    "data['TYPE'] = data['TYPE'].replace(['HCC','Adjacent'],[0,1])       #label需要变成数值形式\n",
    "X = data.drop(['TYPE','Unnamed: 0','SAMPLE_ID'],axis=1)\n",
    "y = data['TYPE']\n",
    "colNames = X.columns\n",
    "x = StandardScaler().fit_transform(X)    #数据标准化\n",
    "x = pd.DataFrame(x)\n",
    "x.columns = colNames   #x为标准化后的数据"
   ]
  },
  {
   "cell_type": "code",
   "execution_count": 5,
   "id": "c62708e6",
   "metadata": {},
   "outputs": [
    {
     "name": "stdout",
     "output_type": "stream",
     "text": [
      "0.006551285568595509\n"
     ]
    }
   ],
   "source": [
    "alphas = np.logspace(-3,1,50)   #主要参数\n",
    "model_lassoCV = LassoCV(alphas = alphas,cv=20,max_iter=1000).fit(x,y)\n",
    "print(model_lassoCV.alpha_)"
   ]
  },
  {
   "cell_type": "code",
   "execution_count": 6,
   "id": "93901589",
   "metadata": {},
   "outputs": [
    {
     "name": "stdout",
     "output_type": "stream",
     "text": [
      "Lasso picked178variables and eliminated the other20352\n"
     ]
    }
   ],
   "source": [
    "coef = pd.Series(model_lassoCV.coef_,index=x.columns)\n",
    "#print(coef)\n",
    "print('Lasso picked'+str(sum(coef != 0))+'variables and eliminated the other'+str(sum(coef == 0)))"
   ]
  },
  {
   "cell_type": "code",
   "execution_count": 7,
   "id": "5595e4bb",
   "metadata": {},
   "outputs": [
    {
     "name": "stdout",
     "output_type": "stream",
     "text": [
      "ACCN1          -0.004943\n",
      "ADCYAP1R1       0.004223\n",
      "ADRA2B          0.014669\n",
      "AMPD1           0.001199\n",
      "CACNA1F        -0.001448\n",
      "                  ...   \n",
      "RSPH10B2        0.009377\n",
      "LOC729467      -0.008201\n",
      "HAR1B           0.000110\n",
      "SNORD115-26    -0.000609\n",
      "LOC100128239   -0.000451\n",
      "Length: 178, dtype: float64\n"
     ]
    }
   ],
   "source": [
    "index = coef[coef !=0].index\n",
    "x_lasso = x[index]\n",
    "x_lasso.head()\n",
    "print(coef[coef != 0 ])"
   ]
  },
  {
   "cell_type": "code",
   "execution_count": 8,
   "id": "c7062877",
   "metadata": {},
   "outputs": [
    {
     "data": {
      "text/html": [
       "<div>\n",
       "<style scoped>\n",
       "    .dataframe tbody tr th:only-of-type {\n",
       "        vertical-align: middle;\n",
       "    }\n",
       "\n",
       "    .dataframe tbody tr th {\n",
       "        vertical-align: top;\n",
       "    }\n",
       "\n",
       "    .dataframe thead th {\n",
       "        text-align: right;\n",
       "    }\n",
       "</style>\n",
       "<table border=\"1\" class=\"dataframe\">\n",
       "  <thead>\n",
       "    <tr style=\"text-align: right;\">\n",
       "      <th></th>\n",
       "      <th>ACCN1</th>\n",
       "      <th>ADCYAP1R1</th>\n",
       "      <th>ADRA2B</th>\n",
       "      <th>AMPD1</th>\n",
       "      <th>CACNA1F</th>\n",
       "      <th>CAV3</th>\n",
       "      <th>CDH13</th>\n",
       "      <th>CETP</th>\n",
       "      <th>CHGB</th>\n",
       "      <th>COL9A1</th>\n",
       "      <th>...</th>\n",
       "      <th>SEPT7P2</th>\n",
       "      <th>RASSF10</th>\n",
       "      <th>C3orf71</th>\n",
       "      <th>KRTAP4-11</th>\n",
       "      <th>SNORA2B</th>\n",
       "      <th>RSPH10B2</th>\n",
       "      <th>LOC729467</th>\n",
       "      <th>HAR1B</th>\n",
       "      <th>SNORD115-26</th>\n",
       "      <th>LOC100128239</th>\n",
       "    </tr>\n",
       "  </thead>\n",
       "  <tbody>\n",
       "    <tr>\n",
       "      <th>0</th>\n",
       "      <td>-0.864651</td>\n",
       "      <td>-0.492451</td>\n",
       "      <td>0.393377</td>\n",
       "      <td>1.030848</td>\n",
       "      <td>0.747743</td>\n",
       "      <td>-0.34809</td>\n",
       "      <td>-0.564598</td>\n",
       "      <td>0.179101</td>\n",
       "      <td>-0.681029</td>\n",
       "      <td>-0.054536</td>\n",
       "      <td>...</td>\n",
       "      <td>-0.629717</td>\n",
       "      <td>-0.474576</td>\n",
       "      <td>0.719180</td>\n",
       "      <td>-0.086808</td>\n",
       "      <td>-0.111814</td>\n",
       "      <td>-1.258098</td>\n",
       "      <td>2.907696</td>\n",
       "      <td>-0.870011</td>\n",
       "      <td>-0.558482</td>\n",
       "      <td>-0.799377</td>\n",
       "    </tr>\n",
       "    <tr>\n",
       "      <th>1</th>\n",
       "      <td>-0.864651</td>\n",
       "      <td>1.859704</td>\n",
       "      <td>-2.016857</td>\n",
       "      <td>-0.654214</td>\n",
       "      <td>0.474686</td>\n",
       "      <td>-0.34809</td>\n",
       "      <td>-0.111984</td>\n",
       "      <td>-1.842604</td>\n",
       "      <td>0.592663</td>\n",
       "      <td>-0.781474</td>\n",
       "      <td>...</td>\n",
       "      <td>0.238571</td>\n",
       "      <td>4.526964</td>\n",
       "      <td>-1.712514</td>\n",
       "      <td>-0.086808</td>\n",
       "      <td>-0.111814</td>\n",
       "      <td>-0.809774</td>\n",
       "      <td>-0.386295</td>\n",
       "      <td>-0.494791</td>\n",
       "      <td>1.236071</td>\n",
       "      <td>0.363353</td>\n",
       "    </tr>\n",
       "    <tr>\n",
       "      <th>2</th>\n",
       "      <td>-0.864651</td>\n",
       "      <td>0.445909</td>\n",
       "      <td>-0.490140</td>\n",
       "      <td>1.659330</td>\n",
       "      <td>0.793253</td>\n",
       "      <td>-0.34809</td>\n",
       "      <td>0.846944</td>\n",
       "      <td>-0.478881</td>\n",
       "      <td>0.290865</td>\n",
       "      <td>0.727382</td>\n",
       "      <td>...</td>\n",
       "      <td>-0.130154</td>\n",
       "      <td>-0.474576</td>\n",
       "      <td>0.549223</td>\n",
       "      <td>-0.086808</td>\n",
       "      <td>-0.111814</td>\n",
       "      <td>-1.258098</td>\n",
       "      <td>-0.386295</td>\n",
       "      <td>0.846420</td>\n",
       "      <td>-0.558482</td>\n",
       "      <td>0.264096</td>\n",
       "    </tr>\n",
       "    <tr>\n",
       "      <th>3</th>\n",
       "      <td>0.846019</td>\n",
       "      <td>-0.492451</td>\n",
       "      <td>-0.214483</td>\n",
       "      <td>0.147329</td>\n",
       "      <td>1.002596</td>\n",
       "      <td>-0.34809</td>\n",
       "      <td>0.463373</td>\n",
       "      <td>0.667282</td>\n",
       "      <td>0.536396</td>\n",
       "      <td>0.128726</td>\n",
       "      <td>...</td>\n",
       "      <td>0.083944</td>\n",
       "      <td>-0.474576</td>\n",
       "      <td>-0.928096</td>\n",
       "      <td>-0.086808</td>\n",
       "      <td>-0.111814</td>\n",
       "      <td>-1.258098</td>\n",
       "      <td>-0.386295</td>\n",
       "      <td>0.263632</td>\n",
       "      <td>1.548671</td>\n",
       "      <td>0.448431</td>\n",
       "    </tr>\n",
       "    <tr>\n",
       "      <th>4</th>\n",
       "      <td>0.709486</td>\n",
       "      <td>-0.492451</td>\n",
       "      <td>0.082379</td>\n",
       "      <td>-0.654214</td>\n",
       "      <td>-0.936107</td>\n",
       "      <td>-0.34809</td>\n",
       "      <td>0.754887</td>\n",
       "      <td>-2.267109</td>\n",
       "      <td>-0.681029</td>\n",
       "      <td>0.690729</td>\n",
       "      <td>...</td>\n",
       "      <td>1.344746</td>\n",
       "      <td>0.626954</td>\n",
       "      <td>-0.666624</td>\n",
       "      <td>-0.086808</td>\n",
       "      <td>-0.111814</td>\n",
       "      <td>-1.258098</td>\n",
       "      <td>-0.386295</td>\n",
       "      <td>0.295566</td>\n",
       "      <td>0.205650</td>\n",
       "      <td>-0.799377</td>\n",
       "    </tr>\n",
       "  </tbody>\n",
       "</table>\n",
       "<p>5 rows × 178 columns</p>\n",
       "</div>"
      ],
      "text/plain": [
       "      ACCN1  ADCYAP1R1    ADRA2B     AMPD1   CACNA1F     CAV3     CDH13  \\\n",
       "0 -0.864651  -0.492451  0.393377  1.030848  0.747743 -0.34809 -0.564598   \n",
       "1 -0.864651   1.859704 -2.016857 -0.654214  0.474686 -0.34809 -0.111984   \n",
       "2 -0.864651   0.445909 -0.490140  1.659330  0.793253 -0.34809  0.846944   \n",
       "3  0.846019  -0.492451 -0.214483  0.147329  1.002596 -0.34809  0.463373   \n",
       "4  0.709486  -0.492451  0.082379 -0.654214 -0.936107 -0.34809  0.754887   \n",
       "\n",
       "       CETP      CHGB    COL9A1  ...   SEPT7P2   RASSF10   C3orf71  KRTAP4-11  \\\n",
       "0  0.179101 -0.681029 -0.054536  ... -0.629717 -0.474576  0.719180  -0.086808   \n",
       "1 -1.842604  0.592663 -0.781474  ...  0.238571  4.526964 -1.712514  -0.086808   \n",
       "2 -0.478881  0.290865  0.727382  ... -0.130154 -0.474576  0.549223  -0.086808   \n",
       "3  0.667282  0.536396  0.128726  ...  0.083944 -0.474576 -0.928096  -0.086808   \n",
       "4 -2.267109 -0.681029  0.690729  ...  1.344746  0.626954 -0.666624  -0.086808   \n",
       "\n",
       "    SNORA2B  RSPH10B2  LOC729467     HAR1B  SNORD115-26  LOC100128239  \n",
       "0 -0.111814 -1.258098   2.907696 -0.870011    -0.558482     -0.799377  \n",
       "1 -0.111814 -0.809774  -0.386295 -0.494791     1.236071      0.363353  \n",
       "2 -0.111814 -1.258098  -0.386295  0.846420    -0.558482      0.264096  \n",
       "3 -0.111814 -1.258098  -0.386295  0.263632     1.548671      0.448431  \n",
       "4 -0.111814 -1.258098  -0.386295  0.295566     0.205650     -0.799377  \n",
       "\n",
       "[5 rows x 178 columns]"
      ]
     },
     "execution_count": 8,
     "metadata": {},
     "output_type": "execute_result"
    }
   ],
   "source": [
    "x_lasso.head()"
   ]
  },
  {
   "cell_type": "code",
   "execution_count": 9,
   "id": "1a260b24",
   "metadata": {
    "scrolled": false
   },
   "outputs": [
    {
     "data": {
      "text/plain": [
       "<function matplotlib.pyplot.show(close=None, block=None)>"
      ]
     },
     "execution_count": 9,
     "metadata": {},
     "output_type": "execute_result"
    },
    {
     "data": {
      "image/png": "[encoded data removed]",
      "text/plain": [
       "<Figure size 640x480 with 1 Axes>"
      ]
     },
     "metadata": {},
     "output_type": "display_data"
    }
   ],
   "source": [
    "import matplotlib.pyplot as plt\n",
    "\n",
    "MSEs = model_lassoCV.mse_path_\n",
    "\n",
    "MSEs_mean = np.apply_along_axis(np.mean,1,MSEs)\n",
    "MSEs_std = np.apply_along_axis(np.std,1,MSEs)\n",
    "\n",
    "'''MSEs_mean = []\n",
    "MSEs_std = []\n",
    "for i in range (len(MSEs)):\n",
    "    MSEs_mean.append(MSEs[i].mean())\n",
    "    MSEs_std.append(MSEs[i].std)'''\n",
    "\n",
    "plt.figure()\n",
    "plt.errorbar(model_lassoCV.alphas_,MSEs_mean\n",
    "            ,yerr=MSEs_std\n",
    "            ,fmt='o'\n",
    "            ,ms=3\n",
    "            ,mfc='r'\n",
    "            ,mec='r'\n",
    "            ,ecolor='lightblue'\n",
    "            ,elinewidth=2\n",
    "            ,capsize=4\n",
    "            ,capthick=1)\n",
    "plt.semilogx()\n",
    "plt.axvline(model_lassoCV.alpha_,color='black',ls='--')\n",
    "plt.xlabel('alpha')\n",
    "plt.ylabel('MSE')\n",
    "ax=plt.gca()\n",
    "plt.show"
   ]
  },
  {
   "cell_type": "code",
   "execution_count": 10,
   "id": "c6e123d5",
   "metadata": {},
   "outputs": [
    {
     "data": {
      "image/png": "[encoded data removed]",
      "text/plain": [
       "<Figure size 640x480 with 1 Axes>"
      ]
     },
     "metadata": {},
     "output_type": "display_data"
    }
   ],
   "source": [
    "coefs = model_lassoCV.path(X,y,alphas = alphas,max_iter=1000)[1].T\n",
    "plt.figure()\n",
    "plt.semilogx(model_lassoCV.alphas_,coefs,'-')\n",
    "plt.axvline(model_lassoCV.alpha_,color='black',ls='--')\n",
    "plt.xlabel('alpha')\n",
    "plt.ylabel('Coefficients')\n",
    "plt.show()            "
   ]
  },
  {
   "cell_type": "code",
   "execution_count": 11,
   "id": "e9c63f95",
   "metadata": {},
   "outputs": [],
   "source": [
    "#x_lasso.to_csv('x_lasso.csv',index=False)"
   ]
  },
  {
   "cell_type": "markdown",
   "id": "db93ad84",
   "metadata": {},
   "source": [
    "为了方便后续操作，将筛选后的数据导出"
   ]
  },
  {
   "cell_type": "markdown",
   "id": "f7363875",
   "metadata": {},
   "source": [
    "### lasso筛选后，保留了178个属性"
   ]
  },
  {
   "cell_type": "markdown",
   "id": "56611925",
   "metadata": {},
   "source": [
    "先用决策树简单对比一下效果"
   ]
  },
  {
   "cell_type": "code",
   "execution_count": 12,
   "id": "f14f01e4",
   "metadata": {},
   "outputs": [],
   "source": [
    "test = pd.read_csv('x_lasso.csv')\n",
    "\n",
    "from sklearn import tree\n",
    "y = data['TYPE'].replace(['HCC','Adjacent'],[0,1])  \n",
    "x_lasso = test\n",
    "from sklearn.model_selection import train_test_split\n",
    "x_train, x_test, y_train, y_test = train_test_split(x_lasso, y, test_size=0.25, random_state=1)\n",
    "\n",
    "clf = tree.DecisionTreeClassifier(criterion='entropy',max_depth=3)\n",
    "clf = clf.fit(x_train,y_train)\n",
    "predY = clf.predict(x_test)"
   ]
  },
  {
   "cell_type": "code",
   "execution_count": 13,
   "id": "7609d196",
   "metadata": {},
   "outputs": [
    {
     "name": "stdout",
     "output_type": "stream",
     "text": [
      "Accuracy on test data is 0.960\n"
     ]
    }
   ],
   "source": [
    "from sklearn.metrics import accuracy_score\n",
    "print('Accuracy on test data is %.3f' % (accuracy_score(y_test, predY)))"
   ]
  },
  {
   "cell_type": "code",
   "execution_count": 14,
   "id": "07342e68",
   "metadata": {},
   "outputs": [
    {
     "data": {
      "text/plain": [
       "<function matplotlib.pyplot.show(close=None, block=None)>"
      ]
     },
     "execution_count": 14,
     "metadata": {},
     "output_type": "execute_result"
    },
    {
     "data": {
      "image/png": "[encoded data removed]",
      "text/plain": [
       "<Figure size 640x480 with 1 Axes>"
      ]
     },
     "metadata": {},
     "output_type": "display_data"
    }
   ],
   "source": [
    "maxdepths = [2,3,4,5,6,7,8,9,10,15,20,25,30,35,40,45,50]\n",
    "trainAcc = np.zeros(len(maxdepths))\n",
    "testAcc = np.zeros(len(maxdepths))\n",
    "index = 0\n",
    "for depth in maxdepths:\n",
    "    clf = tree.DecisionTreeClassifier(max_depth=depth)\n",
    "    clf = clf.fit(x_train,y_train)\n",
    "    y_predTrain = clf.predict(x_train)\n",
    "    y_predTest = clf.predict(x_test)\n",
    "    trainAcc[index] = accuracy_score(y_train, y_predTrain)\n",
    "    testAcc[index] = accuracy_score(y_test, y_predTest)\n",
    "    index += 1\n",
    "plt.plot(maxdepths,trainAcc,'ro-',maxdepths,testAcc,'bv--')\n",
    "plt.legend(['Training Accuracy','Test Accuracy'])\n",
    "plt.xlabel('Max depth')\n",
    "plt.ylabel('Accuracy')\n",
    "plt.show"
   ]
  },
  {
   "cell_type": "markdown",
   "id": "5aae0180",
   "metadata": {},
   "source": [
    "这是使用lasso数据"
   ]
  },
  {
   "cell_type": "code",
   "execution_count": 15,
   "id": "f83e730d",
   "metadata": {},
   "outputs": [
    {
     "data": {
      "text/html": [
       "<div>\n",
       "<style scoped>\n",
       "    .dataframe tbody tr th:only-of-type {\n",
       "        vertical-align: middle;\n",
       "    }\n",
       "\n",
       "    .dataframe tbody tr th {\n",
       "        vertical-align: top;\n",
       "    }\n",
       "\n",
       "    .dataframe thead th {\n",
       "        text-align: right;\n",
       "    }\n",
       "</style>\n",
       "<table border=\"1\" class=\"dataframe\">\n",
       "  <thead>\n",
       "    <tr style=\"text-align: right;\">\n",
       "      <th></th>\n",
       "      <th>A1BG</th>\n",
       "      <th>A2M</th>\n",
       "      <th>NAT1</th>\n",
       "      <th>NAT2</th>\n",
       "      <th>SERPINA3</th>\n",
       "      <th>AADAC</th>\n",
       "      <th>AAMP</th>\n",
       "      <th>AANAT</th>\n",
       "      <th>AARS</th>\n",
       "      <th>ABAT</th>\n",
       "      <th>...</th>\n",
       "      <th>LOC100289341</th>\n",
       "      <th>ZNF605</th>\n",
       "      <th>NHEG1</th>\n",
       "      <th>LOC100302401</th>\n",
       "      <th>LOC100302640</th>\n",
       "      <th>LOC100302650</th>\n",
       "      <th>NCRNA00182</th>\n",
       "      <th>TMED7-TICAM2</th>\n",
       "      <th>TSNAX-DISC1</th>\n",
       "      <th>LOC100303728</th>\n",
       "    </tr>\n",
       "  </thead>\n",
       "  <tbody>\n",
       "    <tr>\n",
       "      <th>0</th>\n",
       "      <td>0.372644</td>\n",
       "      <td>0.346363</td>\n",
       "      <td>-0.438476</td>\n",
       "      <td>0.135012</td>\n",
       "      <td>0.382519</td>\n",
       "      <td>-0.465768</td>\n",
       "      <td>-2.300124</td>\n",
       "      <td>-0.602997</td>\n",
       "      <td>-3.248127</td>\n",
       "      <td>-0.588361</td>\n",
       "      <td>...</td>\n",
       "      <td>0.160291</td>\n",
       "      <td>-0.717382</td>\n",
       "      <td>6.698860</td>\n",
       "      <td>-0.541354</td>\n",
       "      <td>-0.946043</td>\n",
       "      <td>0.942725</td>\n",
       "      <td>-0.384136</td>\n",
       "      <td>-0.664411</td>\n",
       "      <td>-0.412758</td>\n",
       "      <td>0.532258</td>\n",
       "    </tr>\n",
       "    <tr>\n",
       "      <th>1</th>\n",
       "      <td>-2.706728</td>\n",
       "      <td>-2.275873</td>\n",
       "      <td>-1.542390</td>\n",
       "      <td>-1.482913</td>\n",
       "      <td>-2.084553</td>\n",
       "      <td>-0.648485</td>\n",
       "      <td>-0.723723</td>\n",
       "      <td>-0.602997</td>\n",
       "      <td>-1.152813</td>\n",
       "      <td>-1.130311</td>\n",
       "      <td>...</td>\n",
       "      <td>-0.330980</td>\n",
       "      <td>1.546400</td>\n",
       "      <td>2.276381</td>\n",
       "      <td>-0.474866</td>\n",
       "      <td>0.594061</td>\n",
       "      <td>-1.106231</td>\n",
       "      <td>-0.064927</td>\n",
       "      <td>0.625753</td>\n",
       "      <td>1.727762</td>\n",
       "      <td>-0.032642</td>\n",
       "    </tr>\n",
       "    <tr>\n",
       "      <th>2</th>\n",
       "      <td>-0.866184</td>\n",
       "      <td>0.427225</td>\n",
       "      <td>-0.079939</td>\n",
       "      <td>-0.359354</td>\n",
       "      <td>-0.671280</td>\n",
       "      <td>-0.174408</td>\n",
       "      <td>-2.145068</td>\n",
       "      <td>1.798425</td>\n",
       "      <td>-1.135496</td>\n",
       "      <td>-0.835249</td>\n",
       "      <td>...</td>\n",
       "      <td>-0.592992</td>\n",
       "      <td>1.546400</td>\n",
       "      <td>-0.173911</td>\n",
       "      <td>0.854902</td>\n",
       "      <td>-0.084045</td>\n",
       "      <td>-1.270148</td>\n",
       "      <td>0.190440</td>\n",
       "      <td>0.159990</td>\n",
       "      <td>-0.412758</td>\n",
       "      <td>-0.704126</td>\n",
       "    </tr>\n",
       "    <tr>\n",
       "      <th>3</th>\n",
       "      <td>0.014269</td>\n",
       "      <td>1.362913</td>\n",
       "      <td>-0.032764</td>\n",
       "      <td>0.311571</td>\n",
       "      <td>-0.356125</td>\n",
       "      <td>-0.174408</td>\n",
       "      <td>-0.284398</td>\n",
       "      <td>-0.602997</td>\n",
       "      <td>-0.564047</td>\n",
       "      <td>-1.112246</td>\n",
       "      <td>...</td>\n",
       "      <td>0.389551</td>\n",
       "      <td>1.502012</td>\n",
       "      <td>-0.173911</td>\n",
       "      <td>0.190018</td>\n",
       "      <td>0.065368</td>\n",
       "      <td>-0.756046</td>\n",
       "      <td>-1.763119</td>\n",
       "      <td>0.206566</td>\n",
       "      <td>-0.412758</td>\n",
       "      <td>-1.844583</td>\n",
       "    </tr>\n",
       "    <tr>\n",
       "      <th>4</th>\n",
       "      <td>-0.839638</td>\n",
       "      <td>-0.704842</td>\n",
       "      <td>0.995670</td>\n",
       "      <td>0.285890</td>\n",
       "      <td>-0.572794</td>\n",
       "      <td>-0.016383</td>\n",
       "      <td>-0.827094</td>\n",
       "      <td>-0.602997</td>\n",
       "      <td>-0.996963</td>\n",
       "      <td>0.874902</td>\n",
       "      <td>...</td>\n",
       "      <td>-1.040595</td>\n",
       "      <td>1.250481</td>\n",
       "      <td>-0.173911</td>\n",
       "      <td>0.123530</td>\n",
       "      <td>-0.946043</td>\n",
       "      <td>-1.553276</td>\n",
       "      <td>-1.265153</td>\n",
       "      <td>-0.245224</td>\n",
       "      <td>-0.412758</td>\n",
       "      <td>0.446990</td>\n",
       "    </tr>\n",
       "  </tbody>\n",
       "</table>\n",
       "<p>5 rows × 20530 columns</p>\n",
       "</div>"
      ],
      "text/plain": [
       "       A1BG       A2M      NAT1      NAT2  SERPINA3     AADAC      AAMP  \\\n",
       "0  0.372644  0.346363 -0.438476  0.135012  0.382519 -0.465768 -2.300124   \n",
       "1 -2.706728 -2.275873 -1.542390 -1.482913 -2.084553 -0.648485 -0.723723   \n",
       "2 -0.866184  0.427225 -0.079939 -0.359354 -0.671280 -0.174408 -2.145068   \n",
       "3  0.014269  1.362913 -0.032764  0.311571 -0.356125 -0.174408 -0.284398   \n",
       "4 -0.839638 -0.704842  0.995670  0.285890 -0.572794 -0.016383 -0.827094   \n",
       "\n",
       "      AANAT      AARS      ABAT  ...  LOC100289341    ZNF605     NHEG1  \\\n",
       "0 -0.602997 -3.248127 -0.588361  ...      0.160291 -0.717382  6.698860   \n",
       "1 -0.602997 -1.152813 -1.130311  ...     -0.330980  1.546400  2.276381   \n",
       "2  1.798425 -1.135496 -0.835249  ...     -0.592992  1.546400 -0.173911   \n",
       "3 -0.602997 -0.564047 -1.112246  ...      0.389551  1.502012 -0.173911   \n",
       "4 -0.602997 -0.996963  0.874902  ...     -1.040595  1.250481 -0.173911   \n",
       "\n",
       "   LOC100302401  LOC100302640  LOC100302650  NCRNA00182  TMED7-TICAM2  \\\n",
       "0     -0.541354     -0.946043      0.942725   -0.384136     -0.664411   \n",
       "1     -0.474866      0.594061     -1.106231   -0.064927      0.625753   \n",
       "2      0.854902     -0.084045     -1.270148    0.190440      0.159990   \n",
       "3      0.190018      0.065368     -0.756046   -1.763119      0.206566   \n",
       "4      0.123530     -0.946043     -1.553276   -1.265153     -0.245224   \n",
       "\n",
       "   TSNAX-DISC1  LOC100303728  \n",
       "0    -0.412758      0.532258  \n",
       "1     1.727762     -0.032642  \n",
       "2    -0.412758     -0.704126  \n",
       "3    -0.412758     -1.844583  \n",
       "4    -0.412758      0.446990  \n",
       "\n",
       "[5 rows x 20530 columns]"
      ]
     },
     "execution_count": 15,
     "metadata": {},
     "output_type": "execute_result"
    }
   ],
   "source": [
    "x.head()"
   ]
  },
  {
   "cell_type": "code",
   "execution_count": 16,
   "id": "2c809a34",
   "metadata": {},
   "outputs": [],
   "source": [
    "from sklearn import tree\n",
    "y = data['TYPE'].replace(['HCC','Adjacent'],[0,1])  \n",
    "\n",
    "from sklearn.model_selection import train_test_split\n",
    "x_train, x_test, y_train, y_test = train_test_split(x, y, test_size=0.25, random_state=1)\n",
    "\n",
    "clf = tree.DecisionTreeClassifier(criterion='entropy',max_depth=6)\n",
    "clf = clf.fit(x_train,y_train)\n",
    "predY = clf.predict(x_test)"
   ]
  },
  {
   "cell_type": "code",
   "execution_count": 17,
   "id": "ee5564e1",
   "metadata": {},
   "outputs": [
    {
     "name": "stdout",
     "output_type": "stream",
     "text": [
      "Accuracy on test data is 0.970\n"
     ]
    }
   ],
   "source": [
    "from sklearn.metrics import accuracy_score\n",
    "print('Accuracy on test data is %.3f' % (accuracy_score(y_test, predY)))"
   ]
  },
  {
   "cell_type": "markdown",
   "id": "ca01b235",
   "metadata": {},
   "source": [
    "这是原始数据，对于决策树来说，原始数据准确率更高且速度也可以接受"
   ]
  },
  {
   "cell_type": "code",
   "execution_count": 18,
   "id": "0b7ecde4",
   "metadata": {},
   "outputs": [
    {
     "data": {
      "text/plain": [
       "<function matplotlib.pyplot.show(close=None, block=None)>"
      ]
     },
     "execution_count": 18,
     "metadata": {},
     "output_type": "execute_result"
    },
    {
     "data": {
      "image/png": "[encoded data removed]",
      "text/plain": [
       "<Figure size 640x480 with 1 Axes>"
      ]
     },
     "metadata": {},
     "output_type": "display_data"
    }
   ],
   "source": [
    "maxdepths = [2,3,4,5,6,7,8,9,10,15,20,25,30,35,40,45,50]\n",
    "trainAcc = np.zeros(len(maxdepths))\n",
    "testAcc = np.zeros(len(maxdepths))\n",
    "index = 0\n",
    "for depth in maxdepths:\n",
    "    clf = tree.DecisionTreeClassifier(max_depth=depth)\n",
    "    clf = clf.fit(x_train,y_train)\n",
    "    y_predTrain = clf.predict(x_train)\n",
    "    y_predTest = clf.predict(x_test)\n",
    "    trainAcc[index] = accuracy_score(y_train, y_predTrain)\n",
    "    testAcc[index] = accuracy_score(y_test, y_predTest)\n",
    "    index += 1\n",
    "plt.plot(maxdepths,trainAcc,'ro-',maxdepths,testAcc,'bv--')\n",
    "plt.legend(['Training Accuracy','Test Accuracy'])\n",
    "plt.xlabel('Max depth')\n",
    "plt.ylabel('Accuracy')\n",
    "plt.show"
   ]
  },
  {
   "cell_type": "code",
   "execution_count": null,
   "id": "e14dcfaf",
   "metadata": {},
   "outputs": [],
   "source": []
  }
 ],
 "metadata": {
  "kernelspec": {
   "display_name": "Python 3 (ipykernel)",
   "language": "python",
   "name": "python3"
  },
  "language_info": {
   "codemirror_mode": {
    "name": "ipython",
    "version": 3
   },
   "file_extension": ".py",
   "mimetype": "text/x-python",
   "name": "python",
   "nbconvert_exporter": "python",
   "pygments_lexer": "ipython3",
   "version": "3.9.13"
  }
 },
 "nbformat": 4,
 "nbformat_minor": 5
}
